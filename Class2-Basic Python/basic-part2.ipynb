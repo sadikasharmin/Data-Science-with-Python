{
 "cells": [
  {
   "cell_type": "markdown",
   "metadata": {},
   "source": [
    "## What is Python?\n",
    "Python is a high-level, general-purpose, and very popular programming language. Python programming language (latest Python 3) is being used in web development, Machine Learning applications, along with all cutting-edge technology in Software Industry.\n",
    "\n",
    "**Python language is being used by almost all tech-giant companies like – Google, Amazon, Facebook, Instagram, Dropbox, Uber… etc.**\n",
    "\n",
    "The biggest strength of Python is huge collection of standard library which can be used for the following:\n",
    "\n",
    "* Machine Learning\n",
    "* GUI Applications (like Kivy, Tkinter, PyQt etc. )\n",
    "* Web frameworks like Django (used by YouTube, Instagram, Dropbox)\n",
    "* Image processing (like OpenCV, Pillow)\n",
    "* Web scraping (like Scrapy, BeautifulSoup, Selenium)\n",
    "* Test frameworks\n",
    "* Multimedia\n",
    "* Scientific computing\n",
    "* Text processing and many more..\n",
    "\n",
    "## Why Learn Python?\n",
    "Python is currently the most widely used multi-purpose, high-level programming language, which allows programming in Object-Oriented and Procedural paradigms. Python programs are generally smaller than other programming languages like Java. Programmers have to type relatively less and the indentation requirement of the language, makes them readable all the time.\n",
    "\n"
   ]
  },
  {
   "cell_type": "markdown",
   "metadata": {},
   "source": [
    "## Variable and date type"
   ]
  },
  {
   "cell_type": "code",
   "execution_count": 4,
   "metadata": {},
   "outputs": [
    {
     "name": "stdout",
     "output_type": "stream",
     "text": [
      "<class 'int'>\n",
      "<class 'float'>\n",
      "<class 'bool'>\n",
      "<class 'complex'>\n",
      "<class 'str'>\n",
      "<class 'NoneType'>\n",
      "10\n",
      "(4+5j)\n"
     ]
    }
   ],
   "source": [
    "\n",
    "i = 4 #integer\n",
    "f = 4.5 #float\n",
    "b= True #bolian \n",
    "c = complex(4,5) #complex\n",
    "s= \"String\" #string\n",
    "d = None #Nonetype\n",
    "print(type(i))\n",
    "print(type(f))\n",
    "print(type(b))\n",
    "print(type(c))\n",
    "print(type(s))\n",
    "print(type(d))\n",
    "d = 10\n",
    "print(d)\n",
    "print(c)\n"
   ]
  },
  {
   "cell_type": "code",
   "execution_count": null,
   "metadata": {},
   "outputs": [],
   "source": [
    "#operator\n",
    "# Flode"
   ]
  }
 ],
 "metadata": {
  "kernelspec": {
   "display_name": "Python 3",
   "language": "python",
   "name": "python3"
  },
  "language_info": {
   "codemirror_mode": {
    "name": "ipython",
    "version": 3
   },
   "file_extension": ".py",
   "mimetype": "text/x-python",
   "name": "python",
   "nbconvert_exporter": "python",
   "pygments_lexer": "ipython3",
   "version": "3.12.1"
  }
 },
 "nbformat": 4,
 "nbformat_minor": 2
}
