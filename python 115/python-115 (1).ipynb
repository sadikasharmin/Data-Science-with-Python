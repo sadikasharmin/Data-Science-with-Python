{
 "cells": [
  {
   "cell_type": "code",
   "execution_count": 1,
   "id": "c6f94787",
   "metadata": {
    "_cell_guid": "b1076dfc-b9ad-4769-8c92-a6c4dae69d19",
    "_uuid": "8f2839f25d086af736a60e9eeb907d3b93b6e0e5",
    "execution": {
     "iopub.execute_input": "2024-01-19T12:10:32.337749Z",
     "iopub.status.busy": "2024-01-19T12:10:32.337283Z",
     "iopub.status.idle": "2024-01-19T12:10:32.765123Z",
     "shell.execute_reply": "2024-01-19T12:10:32.763959Z"
    },
    "jupyter": {
     "source_hidden": true
    },
    "papermill": {
     "duration": 0.462011,
     "end_time": "2024-01-19T12:10:32.768150",
     "exception": false,
     "start_time": "2024-01-19T12:10:32.306139",
     "status": "completed"
    },
    "tags": []
   },
   "outputs": [],
   "source": [
    "# This Python 3 environment comes with many helpful analytics libraries installed\n",
    "# It is defined by the kaggle/python Docker image: https://github.com/kaggle/docker-python\n",
    "# For example, here's several helpful packages to load\n",
    "\n",
    "import numpy as np # linear algebra\n",
    "import pandas as pd # data processing, CSV file I/O (e.g. pd.read_csv)\n",
    "\n",
    "# Input data files are available in the read-only \"../input/\" directory\n",
    "# For example, running this (by clicking run or pressing Shift+Enter) will list all files under the input directory\n",
    "\n",
    "import os\n",
    "for dirname, _, filenames in os.walk('/kaggle/input'):\n",
    "    for filename in filenames:\n",
    "        print(os.path.join(dirname, filename))\n",
    "\n",
    "# You can write up to 20GB to the current directory (/kaggle/working/) that gets preserved as output when you create a version using \"Save & Run All\" \n",
    "# You can also write temporary files to /kaggle/temp/, but they won't be saved outside of the current session"
   ]
  },
  {
   "cell_type": "markdown",
   "id": "3ebfae1d",
   "metadata": {
    "papermill": {
     "duration": 0.02866,
     "end_time": "2024-01-19T12:10:32.825410",
     "exception": false,
     "start_time": "2024-01-19T12:10:32.796750",
     "status": "completed"
    },
    "tags": []
   },
   "source": [
    "Basic Problems:\n",
    "1. Variable Swap: Write a Python program to swap the values of two variables without using a temporary variable.\n"
   ]
  },
  {
   "cell_type": "code",
   "execution_count": 2,
   "id": "378bb159",
   "metadata": {
    "execution": {
     "iopub.execute_input": "2024-01-19T12:10:32.884421Z",
     "iopub.status.busy": "2024-01-19T12:10:32.883576Z",
     "iopub.status.idle": "2024-01-19T12:10:32.890378Z",
     "shell.execute_reply": "2024-01-19T12:10:32.889167Z"
    },
    "papermill": {
     "duration": 0.038954,
     "end_time": "2024-01-19T12:10:32.892634",
     "exception": false,
     "start_time": "2024-01-19T12:10:32.853680",
     "status": "completed"
    },
    "tags": []
   },
   "outputs": [
    {
     "name": "stdout",
     "output_type": "stream",
     "text": [
      "value after swap 5 4\n"
     ]
    }
   ],
   "source": [
    "x = 4\n",
    "y = 5\n",
    "#swap\n",
    "x=x+y\n",
    "y= x-y\n",
    "x= x-y\n",
    "\n",
    "print(\"value after swap\",x,y)"
   ]
  },
  {
   "cell_type": "markdown",
   "id": "10970035",
   "metadata": {
    "papermill": {
     "duration": 0.028452,
     "end_time": "2024-01-19T12:10:32.949645",
     "exception": false,
     "start_time": "2024-01-19T12:10:32.921193",
     "status": "completed"
    },
    "tags": []
   },
   "source": [
    "2. Even or Odd: Write a Python program that takes an integer as input and prints whether it is even or odd.\n"
   ]
  },
  {
   "cell_type": "code",
   "execution_count": 1,
   "id": "d48bcf34",
   "metadata": {
    "execution": {
     "iopub.execute_input": "2024-01-19T12:10:33.068596Z",
     "iopub.status.busy": "2024-01-19T12:10:33.067724Z",
     "iopub.status.idle": "2024-01-19T12:10:33.619949Z",
     "shell.execute_reply": "2024-01-19T12:10:33.618313Z"
    },
    "papermill": {
     "duration": 0.643492,
     "end_time": "2024-01-19T12:10:33.622058",
     "exception": true,
     "start_time": "2024-01-19T12:10:32.978566",
     "status": "failed"
    },
    "tags": []
   },
   "outputs": [
    {
     "name": "stdout",
     "output_type": "stream",
     "text": [
      "Even\n"
     ]
    }
   ],
   "source": [
    "isEvenOrOdd = int(input(\"Enter your number\"))\n",
    "# isEvenOrOdd = 4\n",
    "if(isEvenOrOdd%2==0):\n",
    "    print(\"Even\")\n",
    "else:\n",
    "    print(\"Odd\")"
   ]
  },
  {
   "cell_type": "markdown",
   "id": "a33a909a",
   "metadata": {
    "papermill": {
     "duration": null,
     "end_time": null,
     "exception": null,
     "start_time": null,
     "status": "pending"
    },
    "tags": []
   },
   "source": [
    "3. String Reverse: Write a Python function to reverse a given string and return the reversed string."
   ]
  },
  {
   "cell_type": "code",
   "execution_count": null,
   "id": "d304edb4",
   "metadata": {
    "execution": {
     "iopub.execute_input": "2024-01-19T07:57:46.271089Z",
     "iopub.status.busy": "2024-01-19T07:57:46.270614Z",
     "iopub.status.idle": "2024-01-19T07:57:46.278190Z",
     "shell.execute_reply": "2024-01-19T07:57:46.276792Z",
     "shell.execute_reply.started": "2024-01-19T07:57:46.271043Z"
    },
    "papermill": {
     "duration": null,
     "end_time": null,
     "exception": null,
     "start_time": null,
     "status": "pending"
    },
    "tags": []
   },
   "outputs": [],
   "source": [
    "def revStr(strValue):\n",
    "    return strValue[::-1]\n",
    "givenString =\"abcd\"\n",
    "print(revStr(givenString))"
   ]
  },
  {
   "cell_type": "markdown",
   "id": "65dbcb0e",
   "metadata": {
    "papermill": {
     "duration": null,
     "end_time": null,
     "exception": null,
     "start_time": null,
     "status": "pending"
    },
    "tags": []
   },
   "source": [
    "4. Type Conversion: Given a list of integers, write a Python program to convert each element of the list to a string."
   ]
  },
  {
   "cell_type": "code",
   "execution_count": null,
   "id": "7dec89c2",
   "metadata": {
    "execution": {
     "iopub.execute_input": "2024-01-19T07:57:46.282080Z",
     "iopub.status.busy": "2024-01-19T07:57:46.281609Z",
     "iopub.status.idle": "2024-01-19T07:57:46.290194Z",
     "shell.execute_reply": "2024-01-19T07:57:46.288980Z",
     "shell.execute_reply.started": "2024-01-19T07:57:46.282036Z"
    },
    "papermill": {
     "duration": null,
     "end_time": null,
     "exception": null,
     "start_time": null,
     "status": "pending"
    },
    "tags": []
   },
   "outputs": [],
   "source": [
    "listInt = [1,2,4,6]\n",
    "strC=\"\"\n",
    "for a in listInt:\n",
    "    strC = strC + \"%s\" %a\n",
    "    \n",
    "print(type(strC))\n",
    "print(strC)"
   ]
  },
  {
   "cell_type": "markdown",
   "id": "b1b1c110",
   "metadata": {
    "papermill": {
     "duration": null,
     "end_time": null,
     "exception": null,
     "start_time": null,
     "status": "pending"
    },
    "tags": []
   },
   "source": [
    "5. Temperature Converter: Write a Python program that converts a temperature in Celsius to Fahrenheit. Take the Celsius temperature as input from the user."
   ]
  },
  {
   "cell_type": "code",
   "execution_count": null,
   "id": "5659c5b5",
   "metadata": {
    "execution": {
     "iopub.execute_input": "2024-01-19T07:57:46.292612Z",
     "iopub.status.busy": "2024-01-19T07:57:46.291748Z",
     "iopub.status.idle": "2024-01-19T07:57:46.304597Z",
     "shell.execute_reply": "2024-01-19T07:57:46.303274Z",
     "shell.execute_reply.started": "2024-01-19T07:57:46.292575Z"
    },
    "papermill": {
     "duration": null,
     "end_time": null,
     "exception": null,
     "start_time": null,
     "status": "pending"
    },
    "tags": []
   },
   "outputs": [],
   "source": [
    "celsius = 28\n",
    "Fahrenheit = celsius*(9/5)+32\n",
    "print(Fahrenheit)"
   ]
  },
  {
   "cell_type": "markdown",
   "id": "2d790a36",
   "metadata": {
    "papermill": {
     "duration": null,
     "end_time": null,
     "exception": null,
     "start_time": null,
     "status": "pending"
    },
    "tags": []
   },
   "source": [
    "6. Data Type Checker: Write a Python function that takes a variable as input and returns the data type of the variable as a string (e.g., “int”, “float”, “str”, “list”, etc.)."
   ]
  },
  {
   "cell_type": "code",
   "execution_count": null,
   "id": "90321e71",
   "metadata": {
    "execution": {
     "iopub.execute_input": "2024-01-19T07:57:46.307027Z",
     "iopub.status.busy": "2024-01-19T07:57:46.306618Z",
     "iopub.status.idle": "2024-01-19T07:57:46.314063Z",
     "shell.execute_reply": "2024-01-19T07:57:46.312870Z",
     "shell.execute_reply.started": "2024-01-19T07:57:46.306994Z"
    },
    "papermill": {
     "duration": null,
     "end_time": null,
     "exception": null,
     "start_time": null,
     "status": "pending"
    },
    "tags": []
   },
   "outputs": [],
   "source": [
    "def TypeChecker(varType):\n",
    "    check = type(varType).__name__\n",
    "    newString = \"%s\" %(check)\n",
    "    return newString\n",
    "    \n",
    "#print(TypeChecker(\"sadika\"))\n",
    "print(TypeChecker(5.5))"
   ]
  },
  {
   "cell_type": "markdown",
   "id": "896f9768",
   "metadata": {
    "papermill": {
     "duration": null,
     "end_time": null,
     "exception": null,
     "start_time": null,
     "status": "pending"
    },
    "tags": []
   },
   "source": [
    "7. String Palindrome: Write a Python function to check if a given string is a palindrome or not.\n"
   ]
  },
  {
   "cell_type": "code",
   "execution_count": null,
   "id": "2f244301",
   "metadata": {
    "execution": {
     "iopub.execute_input": "2024-01-19T08:10:12.256978Z",
     "iopub.status.busy": "2024-01-19T08:10:12.255991Z",
     "iopub.status.idle": "2024-01-19T08:10:29.986620Z",
     "shell.execute_reply": "2024-01-19T08:10:29.985347Z",
     "shell.execute_reply.started": "2024-01-19T08:10:12.256931Z"
    },
    "papermill": {
     "duration": null,
     "end_time": null,
     "exception": null,
     "start_time": null,
     "status": "pending"
    },
    "tags": []
   },
   "outputs": [],
   "source": [
    "def isPalindrome(str):\n",
    "    l = len(str)\n",
    "    for a in range(0,int(l/2)):\n",
    "        if(str[a] != str[l-1-a]):\n",
    "            return False\n",
    "    return True\n",
    "name = input(\"Enter your word\")\n",
    "if(isPalindrome(name)):\n",
    "    print(\"Palindrome\")\n",
    "else:\n",
    "    print(\"Not Palindrome\")"
   ]
  },
  {
   "cell_type": "markdown",
   "id": "919fb551",
   "metadata": {
    "papermill": {
     "duration": null,
     "end_time": null,
     "exception": null,
     "start_time": null,
     "status": "pending"
    },
    "tags": []
   },
   "source": [
    "8. String Reversal with Slicing: Write a Python function to reverse a given string using slicing.\n",
    "\n"
   ]
  },
  {
   "cell_type": "code",
   "execution_count": null,
   "id": "9f6874af",
   "metadata": {
    "execution": {
     "iopub.execute_input": "2024-01-19T08:19:10.896783Z",
     "iopub.status.busy": "2024-01-19T08:19:10.896350Z",
     "iopub.status.idle": "2024-01-19T08:19:10.903787Z",
     "shell.execute_reply": "2024-01-19T08:19:10.902454Z",
     "shell.execute_reply.started": "2024-01-19T08:19:10.896745Z"
    },
    "papermill": {
     "duration": null,
     "end_time": null,
     "exception": null,
     "start_time": null,
     "status": "pending"
    },
    "tags": []
   },
   "outputs": [],
   "source": [
    "def revStrSlice(str):\n",
    "    return str[::-1] #array slice\n",
    "\n",
    "    \n",
    "givStr = \"sadika\"    \n",
    "print(revStrSlice(givStr))"
   ]
  },
  {
   "cell_type": "markdown",
   "id": "8f0b127e",
   "metadata": {
    "papermill": {
     "duration": null,
     "end_time": null,
     "exception": null,
     "start_time": null,
     "status": "pending"
    },
    "tags": []
   },
   "source": [
    "9. String Concatenation: Write a Python program that takes two strings as input and concatenates them into a single string without using the `+` operator.\n",
    "\n"
   ]
  },
  {
   "cell_type": "code",
   "execution_count": null,
   "id": "571da824",
   "metadata": {
    "execution": {
     "iopub.execute_input": "2024-01-19T08:23:57.543173Z",
     "iopub.status.busy": "2024-01-19T08:23:57.542769Z",
     "iopub.status.idle": "2024-01-19T08:23:57.549962Z",
     "shell.execute_reply": "2024-01-19T08:23:57.548605Z",
     "shell.execute_reply.started": "2024-01-19T08:23:57.543138Z"
    },
    "papermill": {
     "duration": null,
     "end_time": null,
     "exception": null,
     "start_time": null,
     "status": "pending"
    },
    "tags": []
   },
   "outputs": [],
   "source": [
    "nam1 = \"Sadika \"\n",
    "nam2 = \"Sharmin\"\n",
    "\n",
    "strCon = nam1+nam2\n",
    "print(strCon)"
   ]
  },
  {
   "cell_type": "markdown",
   "id": "a69ad3f7",
   "metadata": {
    "papermill": {
     "duration": null,
     "end_time": null,
     "exception": null,
     "start_time": null,
     "status": "pending"
    },
    "tags": []
   },
   "source": [
    "10. Typecasting Challenge: Given three variables: `a = ‘100’`, `b = 25`, and `c = ‘10.5’`, write a Python program to perform the following operations and print the results: – Convert `a` to an integer and add it to `b`. – Convert `c` to a float and subtract it from the result of the first operation. – Convert the final result to a string and concatenate it with the string ” is the answer.”"
   ]
  },
  {
   "cell_type": "code",
   "execution_count": null,
   "id": "b1e8c243",
   "metadata": {
    "execution": {
     "iopub.execute_input": "2024-01-19T08:32:31.284306Z",
     "iopub.status.busy": "2024-01-19T08:32:31.283893Z",
     "iopub.status.idle": "2024-01-19T08:32:31.291886Z",
     "shell.execute_reply": "2024-01-19T08:32:31.290564Z",
     "shell.execute_reply.started": "2024-01-19T08:32:31.284273Z"
    },
    "papermill": {
     "duration": null,
     "end_time": null,
     "exception": null,
     "start_time": null,
     "status": "pending"
    },
    "tags": []
   },
   "outputs": [],
   "source": [
    "a='100'\n",
    "b= 25\n",
    "c= '10.5'\n",
    "# converting \"a\" and addition\n",
    "ConA = int(a)\n",
    "add = ConA +b\n",
    "\n",
    "# convert \"c\" and subtract\n",
    "conC = float(c)\n",
    "subt = add - conC\n",
    "conString = \"%s\" %subt\n",
    "print(type(conString))\n",
    "print(conString)"
   ]
  },
  {
   "cell_type": "markdown",
   "id": "bbdd570c",
   "metadata": {
    "papermill": {
     "duration": null,
     "end_time": null,
     "exception": null,
     "start_time": null,
     "status": "pending"
    },
    "tags": []
   },
   "source": [
    "Python Conditional Statements:\n",
    "11. Positive, Negative, or Zero: Write a Python program that takes a number as input and prints whether it is positive, negative, or zero.\n"
   ]
  },
  {
   "cell_type": "code",
   "execution_count": null,
   "id": "4ee350ad",
   "metadata": {
    "execution": {
     "iopub.execute_input": "2024-01-19T08:37:03.370004Z",
     "iopub.status.busy": "2024-01-19T08:37:03.369029Z",
     "iopub.status.idle": "2024-01-19T08:37:07.268610Z",
     "shell.execute_reply": "2024-01-19T08:37:07.267786Z",
     "shell.execute_reply.started": "2024-01-19T08:37:03.369951Z"
    },
    "papermill": {
     "duration": null,
     "end_time": null,
     "exception": null,
     "start_time": null,
     "status": "pending"
    },
    "tags": []
   },
   "outputs": [],
   "source": [
    "def isPositive(num):\n",
    "    if(num>0):\n",
    "        print(\"positive\")\n",
    "    elif(num<0):\n",
    "        print(\"negative\")\n",
    "    else:\n",
    "        print(\"zero\")\n",
    "        \n",
    "num = int(input(\"Enter your Number\"))\n",
    "isPositive(num)"
   ]
  },
  {
   "cell_type": "markdown",
   "id": "ce93e6f1",
   "metadata": {
    "papermill": {
     "duration": null,
     "end_time": null,
     "exception": null,
     "start_time": null,
     "status": "pending"
    },
    "tags": []
   },
   "source": [
    "\n",
    "12. Largest of Three Numbers: Write a Python program that takes three numbers as input and prints the largest among them.\n"
   ]
  },
  {
   "cell_type": "code",
   "execution_count": null,
   "id": "fcf0e3d2",
   "metadata": {
    "execution": {
     "iopub.execute_input": "2024-01-19T08:41:05.660774Z",
     "iopub.status.busy": "2024-01-19T08:41:05.660334Z",
     "iopub.status.idle": "2024-01-19T08:41:05.668402Z",
     "shell.execute_reply": "2024-01-19T08:41:05.667192Z",
     "shell.execute_reply.started": "2024-01-19T08:41:05.660738Z"
    },
    "papermill": {
     "duration": null,
     "end_time": null,
     "exception": null,
     "start_time": null,
     "status": "pending"
    },
    "tags": []
   },
   "outputs": [],
   "source": [
    "def checkLargest(a,b,c):\n",
    "    if(a>b):\n",
    "        if(a>c):\n",
    "            print(a)\n",
    "        else:\n",
    "            print(c)\n",
    "    else:\n",
    "        if(b>c):\n",
    "            print(b)\n",
    "        else:\n",
    "            print(c)\n",
    "            \n",
    "a,b,c= 4,9,7\n",
    "checkLargest(a,b,c)"
   ]
  },
  {
   "cell_type": "markdown",
   "id": "6fb8f9f0",
   "metadata": {
    "papermill": {
     "duration": null,
     "end_time": null,
     "exception": null,
     "start_time": null,
     "status": "pending"
    },
    "tags": []
   },
   "source": [
    "13. Leap Year Checker: Write a Python program that takes a year as input and determines if it is a leap year or not.\n",
    "\n"
   ]
  },
  {
   "cell_type": "code",
   "execution_count": null,
   "id": "cb54f4dc",
   "metadata": {
    "execution": {
     "iopub.execute_input": "2024-01-19T09:57:54.987850Z",
     "iopub.status.busy": "2024-01-19T09:57:54.987452Z",
     "iopub.status.idle": "2024-01-19T09:57:54.995720Z",
     "shell.execute_reply": "2024-01-19T09:57:54.994462Z",
     "shell.execute_reply.started": "2024-01-19T09:57:54.987812Z"
    },
    "papermill": {
     "duration": null,
     "end_time": null,
     "exception": null,
     "start_time": null,
     "status": "pending"
    },
    "tags": []
   },
   "outputs": [],
   "source": [
    "def checkLeapYear(year):\n",
    "    if(year%4 == 0):\n",
    "        if(year%100 ==0):\n",
    "            if(year%400==0):\n",
    "                print(\"Leap Year\")\n",
    "            else:\n",
    "                print(\"Not Leap Year\")\n",
    "        else:\n",
    "            print(\"Leap Year\")\n",
    "    else:\n",
    "        print(\"Not leap Year\")\n",
    "year = 1900\n",
    "checkLeapYear(year)"
   ]
  },
  {
   "cell_type": "markdown",
   "id": "07e90c04",
   "metadata": {
    "papermill": {
     "duration": null,
     "end_time": null,
     "exception": null,
     "start_time": null,
     "status": "pending"
    },
    "tags": []
   },
   "source": [
    "14. Grades Classification: Write a Python program that takes a student’s percentage as input and prints their corresponding grade according to the following criteria: – 90% or above: A+ – 80-89%: A – 70-79%: B – 60-69%: C – Below 60%: Fail\n",
    "\n"
   ]
  },
  {
   "cell_type": "code",
   "execution_count": null,
   "id": "f3ad5043",
   "metadata": {
    "execution": {
     "iopub.execute_input": "2024-01-19T10:07:52.572147Z",
     "iopub.status.busy": "2024-01-19T10:07:52.571699Z",
     "iopub.status.idle": "2024-01-19T10:07:52.580161Z",
     "shell.execute_reply": "2024-01-19T10:07:52.578884Z",
     "shell.execute_reply.started": "2024-01-19T10:07:52.572114Z"
    },
    "papermill": {
     "duration": null,
     "end_time": null,
     "exception": null,
     "start_time": null,
     "status": "pending"
    },
    "tags": []
   },
   "outputs": [],
   "source": [
    "def grade(number):\n",
    "    if(number<=100 and number>=90):\n",
    "        print(\"A+\")\n",
    "    elif(number<90 and number>=80):\n",
    "        print(\"A\")\n",
    "    elif(number<80 and number>=70):\n",
    "        print(\"B\")\n",
    "    elif(number<70 and number >=60):\n",
    "        print(\"C\")\n",
    "    elif(number<60 and number>0):\n",
    "        print(\"Fail\")\n",
    "    else:\n",
    "        print(\"Please enter valid number!\")\n",
    "\n",
    "marks = 89\n",
    "grade(marks)"
   ]
  },
  {
   "cell_type": "markdown",
   "id": "8207cec2",
   "metadata": {
    "papermill": {
     "duration": null,
     "end_time": null,
     "exception": null,
     "start_time": null,
     "status": "pending"
    },
    "tags": []
   },
   "source": [
    "15. Vowel or Consonant: Write a Python program that takes a single character as input and determines whether it is a vowel or a consonant.\n"
   ]
  },
  {
   "cell_type": "code",
   "execution_count": null,
   "id": "d9b9be3f",
   "metadata": {
    "execution": {
     "iopub.execute_input": "2024-01-19T10:18:32.909390Z",
     "iopub.status.busy": "2024-01-19T10:18:32.908706Z",
     "iopub.status.idle": "2024-01-19T10:18:42.941585Z",
     "shell.execute_reply": "2024-01-19T10:18:42.940245Z",
     "shell.execute_reply.started": "2024-01-19T10:18:32.909357Z"
    },
    "papermill": {
     "duration": null,
     "end_time": null,
     "exception": null,
     "start_time": null,
     "status": "pending"
    },
    "tags": []
   },
   "outputs": [],
   "source": [
    "def checkVowel(w):\n",
    "    w= w.lower()\n",
    "    if(w ==\"a\" or w==\"e\" or w==\"i\" or w==\"o\" or w==\"u\"):\n",
    "        print(\"Vowel\")\n",
    "    else:\n",
    "        print(\"Consonant\")\n",
    "\n",
    "w = input(\"Enter single catacter:\")\n",
    "if(len(w)==1):\n",
    "    checkVowel(w)\n",
    "else:\n",
    "    w=input(\"please enter valid one\")"
   ]
  },
  {
   "cell_type": "markdown",
   "id": "4155a75e",
   "metadata": {
    "papermill": {
     "duration": null,
     "end_time": null,
     "exception": null,
     "start_time": null,
     "status": "pending"
    },
    "tags": []
   },
   "source": [
    "\n",
    "16. Time Classification: Write a Python program that takes the time in hours (24-hour format) as input and prints “Good Morning”, “Good Afternoon”, “Good Evening”, or “Good Night” based on the time.\n",
    "\n"
   ]
  },
  {
   "cell_type": "code",
   "execution_count": null,
   "id": "67c6d41a",
   "metadata": {
    "execution": {
     "iopub.execute_input": "2024-01-19T11:19:45.998429Z",
     "iopub.status.busy": "2024-01-19T11:19:45.997957Z",
     "iopub.status.idle": "2024-01-19T11:19:46.006664Z",
     "shell.execute_reply": "2024-01-19T11:19:46.005434Z",
     "shell.execute_reply.started": "2024-01-19T11:19:45.998393Z"
    },
    "papermill": {
     "duration": null,
     "end_time": null,
     "exception": null,
     "start_time": null,
     "status": "pending"
    },
    "tags": []
   },
   "outputs": [],
   "source": [
    "import time\n",
    "localTime = time.localtime()\n",
    "currentTime = localTime.tm_hour\n",
    "print(currentTime)\n",
    "def showGreeting(currenTime):\n",
    "    if(currentTime>=0 and currenTime<12):\n",
    "        print(\"Good Morning!\")\n",
    "    elif(currentTime>=12 and currentTime<18):\n",
    "        print(\"Good Afternoon\")\n",
    "    elif(currentTime>18 and currentTime<20):\n",
    "        print(\"Good Evening\")\n",
    "    else:\n",
    "        print(\"Good Night\")\n",
    "\n",
    "        \n",
    "showGreeting(currentTime)"
   ]
  },
  {
   "cell_type": "markdown",
   "id": "fcf126d9",
   "metadata": {
    "papermill": {
     "duration": null,
     "end_time": null,
     "exception": null,
     "start_time": null,
     "status": "pending"
    },
    "tags": []
   },
   "source": [
    "17. Triangle Type Checker: Write a Python program that takes three sides of a triangle as input and determines whether it forms an equilateral, isosceles, or scalene triangle.\n",
    "\n"
   ]
  },
  {
   "cell_type": "code",
   "execution_count": null,
   "id": "5484a6f5",
   "metadata": {
    "execution": {
     "iopub.execute_input": "2024-01-19T11:27:17.100628Z",
     "iopub.status.busy": "2024-01-19T11:27:17.100199Z",
     "iopub.status.idle": "2024-01-19T11:27:17.108236Z",
     "shell.execute_reply": "2024-01-19T11:27:17.106905Z",
     "shell.execute_reply.started": "2024-01-19T11:27:17.100594Z"
    },
    "papermill": {
     "duration": null,
     "end_time": null,
     "exception": null,
     "start_time": null,
     "status": "pending"
    },
    "tags": []
   },
   "outputs": [],
   "source": [
    "def checkTri(x,y,z):\n",
    "    if(x==y and y==z):\n",
    "        print(\"Equilateral\")\n",
    "    elif(x==y or y==z or z==x):\n",
    "        print(\"Isosceles\")\n",
    "    else:\n",
    "        print(\"Scalene\")\n",
    "        \n",
    "        \n",
    "checkTri(5,7,6)"
   ]
  },
  {
   "cell_type": "markdown",
   "id": "fde1179d",
   "metadata": {
    "papermill": {
     "duration": null,
     "end_time": null,
     "exception": null,
     "start_time": null,
     "status": "pending"
    },
    "tags": []
   },
   "source": [
    "18. Quadratic Equation Solver: Write a Python program that takes the coefficients (a, b, c) of a quadratic equation as input and calculates and prints the real roots (if they exist) or a message indicating the complex roots.\n",
    "\n"
   ]
  },
  {
   "cell_type": "code",
   "execution_count": null,
   "id": "b278bf37",
   "metadata": {
    "execution": {
     "iopub.execute_input": "2024-01-19T12:07:31.115383Z",
     "iopub.status.busy": "2024-01-19T12:07:31.114930Z",
     "iopub.status.idle": "2024-01-19T12:07:31.125360Z",
     "shell.execute_reply": "2024-01-19T12:07:31.124026Z",
     "shell.execute_reply.started": "2024-01-19T12:07:31.115333Z"
    },
    "papermill": {
     "duration": null,
     "end_time": null,
     "exception": null,
     "start_time": null,
     "status": "pending"
    },
    "tags": []
   },
   "outputs": [],
   "source": [
    "import math\n",
    "def quaEq(a,b,c):\n",
    "    s= (b**2)-(4*a*c)\n",
    "    x1 = round((-(b)+ math.sqrt(s))/(2*a))\n",
    "    x2 = round((-(b)- math.sqrt(s))/(2*a))\n",
    "    \n",
    "    print(x1,x2)\n",
    "    if(s>0):\n",
    "          print(\"Two roots found! they are %d and %d\"%(x1,x2))\n",
    "    elif(s==0):\n",
    "          print(\"One Roots found! it is %d\"%(x1))\n",
    "    else:\n",
    "        print(\"Complex Root\")\n",
    "        \n",
    "quaEq(1,-7,10)\n",
    "#quaEq(2,2,2)\n",
    "#cmath give conplex number"
   ]
  },
  {
   "cell_type": "markdown",
   "id": "956a6579",
   "metadata": {
    "papermill": {
     "duration": null,
     "end_time": null,
     "exception": null,
     "start_time": null,
     "status": "pending"
    },
    "tags": []
   },
   "source": [
    "19. Number Ranges: Write a Python program that takes an integer as input and prints whether the number falls within the ranges: 0-50, 51-100, 101-150, or above 150."
   ]
  },
  {
   "cell_type": "code",
   "execution_count": null,
   "id": "fdfca0f0",
   "metadata": {
    "execution": {
     "iopub.execute_input": "2024-01-19T11:41:34.480952Z",
     "iopub.status.busy": "2024-01-19T11:41:34.480522Z",
     "iopub.status.idle": "2024-01-19T11:41:34.487055Z",
     "shell.execute_reply": "2024-01-19T11:41:34.485932Z",
     "shell.execute_reply.started": "2024-01-19T11:41:34.480922Z"
    },
    "papermill": {
     "duration": null,
     "end_time": null,
     "exception": null,
     "start_time": null,
     "status": "pending"
    },
    "tags": []
   },
   "outputs": [],
   "source": [
    "def chckRange(n):\n",
    "    if(n>=0 and n<=50):\n",
    "        print(\"it falls between 0 to 50\")\n",
    "    elif(n>=51 and n<=100):\n",
    "        print(\"it falls between 51 to 100\")\n",
    "    elif(n>=101 and n<=150):\n",
    "        print(\"101-150\")\n",
    "    else:\n",
    "        print(\"above 150\")\n",
    "\n",
    "ranges=int(input(\"Enter your number\"))\n",
    "chckRange(ranges)\n",
    "    "
   ]
  },
  {
   "cell_type": "markdown",
   "id": "93ef56d8",
   "metadata": {
    "papermill": {
     "duration": null,
     "end_time": null,
     "exception": null,
     "start_time": null,
     "status": "pending"
    },
    "tags": []
   },
   "source": [
    "For & While Loops:\n",
    "\n",
    "20. Sum of N Numbers: Write a Python program using a for loop to calculate the sum of the first N natural numbers, where N is taken as input from the user."
   ]
  },
  {
   "cell_type": "code",
   "execution_count": null,
   "id": "f2ed2015",
   "metadata": {},
   "outputs": [],
   "source": [
    "def calSum(n):\n",
    "    sum=0\n",
    "    for i in range(1,n+1):\n",
    "        sum = sum+i\n",
    "#         print(i)\n",
    "    return sum\n",
    "\n",
    "takeN = int(input(\"Enter your number\"))\n",
    "calSum(takeN)"
   ]
  },
  {
   "cell_type": "markdown",
   "id": "8a6f4bd0",
   "metadata": {
    "papermill": {
     "duration": null,
     "end_time": null,
     "exception": null,
     "start_time": null,
     "status": "pending"
    },
    "tags": []
   },
   "source": [
    "21. Factorial Calculator: Write a Python program using a while loop to calculate the factorial of a given number N.\n"
   ]
  },
  {
   "cell_type": "code",
   "execution_count": 6,
   "id": "c2068cfc",
   "metadata": {},
   "outputs": [
    {
     "name": "stdout",
     "output_type": "stream",
     "text": [
      "720\n"
     ]
    }
   ],
   "source": [
    "def fac(n):\n",
    "    mul = 1\n",
    "    i = 1\n",
    "    while(i<=n):\n",
    "        mul = mul*i\n",
    "        i += 1\n",
    "        # print(n)\n",
    "    return mul\n",
    "    \n",
    "# n1=int(input(\"Enter your number\"))\n",
    "print(fac(6))"
   ]
  },
  {
   "cell_type": "markdown",
   "id": "9bc01e71",
   "metadata": {
    "papermill": {
     "duration": null,
     "end_time": null,
     "exception": null,
     "start_time": null,
     "status": "pending"
    },
    "tags": []
   },
   "source": [
    "22. Table of a Number: Write a Python program using a for loop to print the multiplication table of a given number N.\n"
   ]
  },
  {
   "cell_type": "code",
   "execution_count": 9,
   "id": "101ef6b8",
   "metadata": {},
   "outputs": [
    {
     "name": "stdout",
     "output_type": "stream",
     "text": [
      "5  *  1  =  5\n",
      "5  *  2  =  10\n",
      "5  *  3  =  15\n",
      "5  *  4  =  20\n",
      "5  *  5  =  25\n",
      "5  *  6  =  30\n",
      "5  *  7  =  35\n",
      "5  *  8  =  40\n",
      "5  *  9  =  45\n",
      "5  *  10  =  50\n"
     ]
    }
   ],
   "source": [
    "def multiTable(n):\n",
    "    for i in range(1,10+1):\n",
    "        print(n, \" * \", i, \" = \", n*i)\n",
    "\n",
    "# n = int(input(\"Enter your number\"))\n",
    "# a = int(input(\"Enter multiplication number\"))\n",
    "        \n",
    "n = 5\n",
    "multiTable(n)"
   ]
  },
  {
   "cell_type": "markdown",
   "id": "f5b7024d",
   "metadata": {
    "papermill": {
     "duration": null,
     "end_time": null,
     "exception": null,
     "start_time": null,
     "status": "pending"
    },
    "tags": []
   },
   "source": [
    "23. Count Digits in a Number: Write a Python program using a while loop to count the number of digits in a given integer N.\n"
   ]
  },
  {
   "cell_type": "code",
   "execution_count": 15,
   "id": "ec5f26d6",
   "metadata": {},
   "outputs": [
    {
     "name": "stdout",
     "output_type": "stream",
     "text": [
      "5\n"
     ]
    }
   ],
   "source": [
    "def countDigit(n):\n",
    "    count = 0\n",
    "    i = 0\n",
    "    while(n>0):\n",
    "        count+=1\n",
    "        n= n//10\n",
    "        # print(n)\n",
    "    return count\n",
    "    \n",
    "# n1=int(input(\"Enter your number\"))\n",
    "print(countDigit(66778))"
   ]
  },
  {
   "cell_type": "markdown",
   "id": "eaabb056",
   "metadata": {
    "papermill": {
     "duration": null,
     "end_time": null,
     "exception": null,
     "start_time": null,
     "status": "pending"
    },
    "tags": []
   },
   "source": [
    "24. Fibonacci Sequence: Write a Python program using a for loop to generate the Fibonacci sequence up to a given limit N.\n"
   ]
  },
  {
   "cell_type": "code",
   "execution_count": 16,
   "id": "54096ef2",
   "metadata": {},
   "outputs": [
    {
     "name": "stdout",
     "output_type": "stream",
     "text": [
      "1  \n",
      "2  \n",
      "3  \n",
      "5  \n",
      "8  \n"
     ]
    }
   ],
   "source": [
    "def fibo(n):\n",
    "    n1 = 0\n",
    "    n2 = 1\n",
    "    n_next = n2\n",
    "    count = 1\n",
    "    while(count <n):\n",
    "        print(n_next, \" \")\n",
    "        count+=1\n",
    "        n1 = n2\n",
    "        n2 = n_next\n",
    "        n_next = n1+n2\n",
    "\n",
    "# n = int(input(\"Enter your number\"))\n",
    "# fibo(n)\n",
    "fibo(6)"
   ]
  },
  {
   "cell_type": "markdown",
   "id": "5a841e8c",
   "metadata": {
    "papermill": {
     "duration": null,
     "end_time": null,
     "exception": null,
     "start_time": null,
     "status": "pending"
    },
    "tags": []
   },
   "source": [
    "25. Sum of Even Numbers: Write a Python program using a while loop to calculate the sum of all even numbers between 1 and N, where N is taken as input from the user.\n"
   ]
  },
  {
   "cell_type": "code",
   "execution_count": 24,
   "id": "38151f0c",
   "metadata": {},
   "outputs": [
    {
     "name": "stdout",
     "output_type": "stream",
     "text": [
      "2\n",
      "6\n",
      "12\n",
      "20\n",
      "20\n"
     ]
    }
   ],
   "source": [
    "def SumEven(n):\n",
    "    sum = 0\n",
    "    count = 1\n",
    "    while(count < n+1):\n",
    "        if(count%2 == 0):\n",
    "            sum = sum + count\n",
    "            print(sum)\n",
    "            count+=1\n",
    "        count+=1\n",
    "\n",
    "    return sum\n",
    "        \n",
    "\n",
    "# n = int(input(\"Enter your number\"))\n",
    "# SumEven(n)\n",
    "print(SumEven(8))"
   ]
  },
  {
   "cell_type": "markdown",
   "id": "2e652e9a",
   "metadata": {
    "papermill": {
     "duration": null,
     "end_time": null,
     "exception": null,
     "start_time": null,
     "status": "pending"
    },
    "tags": []
   },
   "source": [
    "26. Print Patterns: Write a Python program using nested for loops to print various patterns, such as a right-angled triangle, an inverted right-angled triangle, and so on.\n"
   ]
  },
  {
   "cell_type": "code",
   "execution_count": 31,
   "id": "e7b41f11",
   "metadata": {},
   "outputs": [
    {
     "name": "stdout",
     "output_type": "stream",
     "text": [
      "* \n",
      "* * \n",
      "* * * \n",
      "* * * * \n",
      "* * * * * \n"
     ]
    }
   ],
   "source": [
    "def triangle(n):\n",
    "    for i in range(0,n):\n",
    "        for j in range(0,i+1):\n",
    "            print(\"*\", end=\" \")\n",
    "        print(\"\\r\")\n",
    "n = 5\n",
    "triangle(n)"
   ]
  },
  {
   "cell_type": "markdown",
   "id": "b959a547",
   "metadata": {
    "papermill": {
     "duration": null,
     "end_time": null,
     "exception": null,
     "start_time": null,
     "status": "pending"
    },
    "tags": []
   },
   "source": [
    "27. Prime Number Checker: Write a Python program using a while loop to check if a given number N is prime or not.\n"
   ]
  },
  {
   "cell_type": "code",
   "execution_count": 36,
   "id": "56a45727",
   "metadata": {},
   "outputs": [
    {
     "name": "stdout",
     "output_type": "stream",
     "text": [
      "Not prime\n"
     ]
    }
   ],
   "source": [
    "def isPrime(n):\n",
    "    count = 2\n",
    "    while(count < n):\n",
    "        if(n%count == 0):\n",
    "            return False\n",
    "            break\n",
    "        count+=1\n",
    "    return True\n",
    "        \n",
    "\n",
    "# n = int(input(\"Enter your number\"))\n",
    "# isPrime(n)\n",
    "if(isPrime(8)):\n",
    "    print('Prime')\n",
    "else:\n",
    "    print(\"Not prime\")"
   ]
  },
  {
   "cell_type": "markdown",
   "id": "867c86f7",
   "metadata": {
    "papermill": {
     "duration": null,
     "end_time": null,
     "exception": null,
     "start_time": null,
     "status": "pending"
    },
    "tags": []
   },
   "source": [
    "28. List Manipulation: Given a list of integers, write a Python program using a for loop to find the sum, average, maximum, and minimum values in the list.\n"
   ]
  },
  {
   "cell_type": "code",
   "execution_count": 38,
   "id": "e354a9f0",
   "metadata": {},
   "outputs": [
    {
     "name": "stdout",
     "output_type": "stream",
     "text": [
      "22\n",
      "average is 4\n",
      "min =  1\n",
      "max =  8\n"
     ]
    }
   ],
   "source": [
    "def listInfo(li):\n",
    "    \n",
    "    sum = 0\n",
    "    n = len(l1)\n",
    "    for a in li:\n",
    "        #sum of list\n",
    "        sum = sum + a\n",
    "    print(sum);\n",
    "    average_v = sum//n \n",
    "    print(\"average is\",average_v) \n",
    "    print(\"min = \", min(li))  \n",
    "    print(\"max = \", max(li))  \n",
    "\n",
    "l1 = [1,2,4,7,8]\n",
    "listInfo(l1)"
   ]
  },
  {
   "cell_type": "markdown",
   "id": "325abc79",
   "metadata": {
    "papermill": {
     "duration": null,
     "end_time": null,
     "exception": null,
     "start_time": null,
     "status": "pending"
    },
    "tags": []
   },
   "source": [
    "\n",
    "29. Reverse String: Write a Python program using a while loop to reverse a given string."
   ]
  },
  {
   "cell_type": "code",
   "execution_count": 39,
   "id": "bf2ff8b4",
   "metadata": {},
   "outputs": [
    {
     "name": "stdout",
     "output_type": "stream",
     "text": [
      "akidas\n"
     ]
    }
   ],
   "source": [
    "def listInfo(str):\n",
    "    \n",
    "    n = len(str)\n",
    "    newStr =\"\"\n",
    "    i=0\n",
    "    while(i<n):\n",
    "        newStr = newStr + str[n-1-i]\n",
    "        i=i+1\n",
    "    return newStr\n",
    "\n",
    "str = \"sadika\"\n",
    "print(listInfo(str))"
   ]
  },
  {
   "cell_type": "markdown",
   "id": "0a4def7c",
   "metadata": {
    "papermill": {
     "duration": null,
     "end_time": null,
     "exception": null,
     "start_time": null,
     "status": "pending"
    },
    "tags": []
   },
   "source": [
    "\n",
    "Nested Loops:\n",
    "30. Multiplication Table: Write a Python program using nested loops to print the multiplication table from 1 to 10.\n",
    "\n"
   ]
  },
  {
   "cell_type": "code",
   "execution_count": 41,
   "id": "075f68c6",
   "metadata": {},
   "outputs": [
    {
     "name": "stdout",
     "output_type": "stream",
     "text": [
      "1  *  1  =  1\n",
      "1  *  2  =  2\n",
      "1  *  3  =  3\n",
      "1  *  4  =  4\n",
      "1  *  5  =  5\n",
      "1  *  6  =  6\n",
      "1  *  7  =  7\n",
      "1  *  8  =  8\n",
      "1  *  9  =  9\n",
      "1  *  10  =  10\n",
      "Multiplication of  1\n",
      "2  *  1  =  2\n",
      "2  *  2  =  4\n",
      "2  *  3  =  6\n",
      "2  *  4  =  8\n",
      "2  *  5  =  10\n",
      "2  *  6  =  12\n",
      "2  *  7  =  14\n",
      "2  *  8  =  16\n",
      "2  *  9  =  18\n",
      "2  *  10  =  20\n",
      "Multiplication of  2\n",
      "3  *  1  =  3\n",
      "3  *  2  =  6\n",
      "3  *  3  =  9\n",
      "3  *  4  =  12\n",
      "3  *  5  =  15\n",
      "3  *  6  =  18\n",
      "3  *  7  =  21\n",
      "3  *  8  =  24\n",
      "3  *  9  =  27\n",
      "3  *  10  =  30\n",
      "Multiplication of  3\n",
      "4  *  1  =  4\n",
      "4  *  2  =  8\n",
      "4  *  3  =  12\n",
      "4  *  4  =  16\n",
      "4  *  5  =  20\n",
      "4  *  6  =  24\n",
      "4  *  7  =  28\n",
      "4  *  8  =  32\n",
      "4  *  9  =  36\n",
      "4  *  10  =  40\n",
      "Multiplication of  4\n",
      "5  *  1  =  5\n",
      "5  *  2  =  10\n",
      "5  *  3  =  15\n",
      "5  *  4  =  20\n",
      "5  *  5  =  25\n",
      "5  *  6  =  30\n",
      "5  *  7  =  35\n",
      "5  *  8  =  40\n",
      "5  *  9  =  45\n",
      "5  *  10  =  50\n",
      "Multiplication of  5\n",
      "6  *  1  =  6\n",
      "6  *  2  =  12\n",
      "6  *  3  =  18\n",
      "6  *  4  =  24\n",
      "6  *  5  =  30\n",
      "6  *  6  =  36\n",
      "6  *  7  =  42\n",
      "6  *  8  =  48\n",
      "6  *  9  =  54\n",
      "6  *  10  =  60\n",
      "Multiplication of  6\n",
      "7  *  1  =  7\n",
      "7  *  2  =  14\n",
      "7  *  3  =  21\n",
      "7  *  4  =  28\n",
      "7  *  5  =  35\n",
      "7  *  6  =  42\n",
      "7  *  7  =  49\n",
      "7  *  8  =  56\n",
      "7  *  9  =  63\n",
      "7  *  10  =  70\n",
      "Multiplication of  7\n",
      "8  *  1  =  8\n",
      "8  *  2  =  16\n",
      "8  *  3  =  24\n",
      "8  *  4  =  32\n",
      "8  *  5  =  40\n",
      "8  *  6  =  48\n",
      "8  *  7  =  56\n",
      "8  *  8  =  64\n",
      "8  *  9  =  72\n",
      "8  *  10  =  80\n",
      "Multiplication of  8\n",
      "9  *  1  =  9\n",
      "9  *  2  =  18\n",
      "9  *  3  =  27\n",
      "9  *  4  =  36\n",
      "9  *  5  =  45\n",
      "9  *  6  =  54\n",
      "9  *  7  =  63\n",
      "9  *  8  =  72\n",
      "9  *  9  =  81\n",
      "9  *  10  =  90\n",
      "Multiplication of  9\n",
      "10  *  1  =  10\n",
      "10  *  2  =  20\n",
      "10  *  3  =  30\n",
      "10  *  4  =  40\n",
      "10  *  5  =  50\n",
      "10  *  6  =  60\n",
      "10  *  7  =  70\n",
      "10  *  8  =  80\n",
      "10  *  9  =  90\n",
      "10  *  10  =  100\n",
      "Multiplication of  10\n"
     ]
    }
   ],
   "source": [
    "for i in range(1,10+1):\n",
    "        for j in range(1,10+1):\n",
    "            print(i, \" * \", j, \" = \", j*i)\n",
    "        print(\"Multiplication of \", i)"
   ]
  },
  {
   "cell_type": "markdown",
   "id": "ffe583a0",
   "metadata": {
    "papermill": {
     "duration": null,
     "end_time": null,
     "exception": null,
     "start_time": null,
     "status": "pending"
    },
    "tags": []
   },
   "source": [
    "31. Print Patterns: Write a Python program using nested loops to print the following pattern:\n",
    "*\n",
    "**\n",
    "***\n",
    "****\n",
    "*****\n",
    "\n"
   ]
  },
  {
   "cell_type": "code",
   "execution_count": 43,
   "id": "cbf7b505",
   "metadata": {},
   "outputs": [
    {
     "name": "stdout",
     "output_type": "stream",
     "text": [
      "*\n",
      "**\n",
      "***\n",
      "****\n",
      "*****\n"
     ]
    }
   ],
   "source": [
    "def triangle(n):\n",
    "    for i in range(0,n):\n",
    "        for j in range(0,i+1):\n",
    "            print(\"*\", end=\"\")\n",
    "        print(\"\\r\")\n",
    "n = 5\n",
    "triangle(n)"
   ]
  },
  {
   "cell_type": "markdown",
   "id": "662708a7",
   "metadata": {
    "papermill": {
     "duration": null,
     "end_time": null,
     "exception": null,
     "start_time": null,
     "status": "pending"
    },
    "tags": []
   },
   "source": [
    "32. Matrix Multiplication: Write a Python program using nested loops to multiply two matrices.\n"
   ]
  },
  {
   "cell_type": "code",
   "execution_count": 44,
   "id": "880483dc",
   "metadata": {},
   "outputs": [
    {
     "name": "stdout",
     "output_type": "stream",
     "text": [
      "[114, 160, 60, 27]\n",
      "[74, 97, 73, 14]\n",
      "[119, 157, 112, 23]\n"
     ]
    }
   ],
   "source": [
    "# Program to multiply two matrices using nested loops\n",
    "\n",
    "# 3x3 matrix\n",
    "X = [[12,7,3],\n",
    "    [4 ,5,6],\n",
    "    [7 ,8,9]]\n",
    "# 3x4 matrix\n",
    "Y = [[5,8,1,2],\n",
    "    [6,7,3,0],\n",
    "    [4,5,9,1]]\n",
    "# result is 3x4\n",
    "result = [[0,0,0,0],\n",
    "         [0,0,0,0],\n",
    "         [0,0,0,0]]\n",
    "\n",
    "\n",
    "for i in range(len(X)):\n",
    "   for j in range(len(Y[0])):\n",
    "       for k in range(len(Y)):\n",
    "           result[i][j] += X[i][k] * Y[k][j]\n",
    "\n",
    "for r in result:\n",
    "   print(r)"
   ]
  },
  {
   "cell_type": "markdown",
   "id": "2e332af2",
   "metadata": {
    "papermill": {
     "duration": null,
     "end_time": null,
     "exception": null,
     "start_time": null,
     "status": "pending"
    },
    "tags": []
   },
   "source": [
    "33. Chessboard Pattern: Write a Python program using nested loops to print a chessboard pattern (alternating “X” and “O” characters) of size 8×8.34. Number Pyramid: Write a Python program using nested loops to print a number pyramid like the following: 1 22 333 4444 55555"
   ]
  },
  {
   "cell_type": "code",
   "execution_count": 46,
   "id": "fa7539b1",
   "metadata": {},
   "outputs": [
    {
     "name": "stdout",
     "output_type": "stream",
     "text": [
      "1\n",
      "22\n",
      "333\n",
      "4444\n",
      "55555\n"
     ]
    }
   ],
   "source": [
    "def triangle(n):\n",
    "    for i in range(0,n):\n",
    "        for j in range(0,i+1):\n",
    "            print(i+1, end=\"\")\n",
    "        print(\"\\r\")\n",
    "n = 5\n",
    "triangle(n)"
   ]
  },
  {
   "cell_type": "markdown",
   "id": "9c0ce2be",
   "metadata": {
    "papermill": {
     "duration": null,
     "end_time": null,
     "exception": null,
     "start_time": null,
     "status": "pending"
    },
    "tags": []
   },
   "source": [
    "\n",
    "List Problems:\n",
    "\n",
    "34. List Sum: Write a Python program to find the sum of all elements in a given list of integers.\n"
   ]
  },
  {
   "cell_type": "code",
   "execution_count": 47,
   "id": "7e0b4cf6",
   "metadata": {},
   "outputs": [
    {
     "name": "stdout",
     "output_type": "stream",
     "text": [
      "22\n"
     ]
    }
   ],
   "source": [
    "def listum(li):\n",
    "    \n",
    "    sum = 0\n",
    "    n = len(l1)\n",
    "    for a in li:\n",
    "        #sum of list\n",
    "        sum = sum + a\n",
    "    print(sum);  \n",
    "\n",
    "l1 = [1,2,4,7,8]\n",
    "listum(l1)"
   ]
  },
  {
   "cell_type": "markdown",
   "id": "536a73f6",
   "metadata": {
    "papermill": {
     "duration": null,
     "end_time": null,
     "exception": null,
     "start_time": null,
     "status": "pending"
    },
    "tags": []
   },
   "source": [
    "\n",
    "35. List Average: Write a Python program to calculate the average of all elements in a given list of integers.\n"
   ]
  },
  {
   "cell_type": "code",
   "execution_count": 49,
   "id": "8f03fa6e",
   "metadata": {},
   "outputs": [
    {
     "name": "stdout",
     "output_type": "stream",
     "text": [
      "average is 4\n"
     ]
    }
   ],
   "source": [
    "def listaverage(li):\n",
    "    \n",
    "    sum = 0\n",
    "    n = len(l1)\n",
    "    for a in li:\n",
    "        #sum of list\n",
    "        sum = sum + a\n",
    "    average_v = sum//n \n",
    "    print(\"average is\",average_v)   \n",
    "\n",
    "l1 = [1,2,4,7,8]\n",
    "listaverage(l1)"
   ]
  },
  {
   "cell_type": "markdown",
   "id": "69afb310",
   "metadata": {
    "papermill": {
     "duration": null,
     "end_time": null,
     "exception": null,
     "start_time": null,
     "status": "pending"
    },
    "tags": []
   },
   "source": [
    "\n",
    "36. List Max and Min: Write a Python program to find the maximum and minimum values in a given list of integers.\n"
   ]
  },
  {
   "cell_type": "code",
   "execution_count": 50,
   "id": "9697f3ec",
   "metadata": {},
   "outputs": [
    {
     "name": "stdout",
     "output_type": "stream",
     "text": [
      "min =  1\n",
      "max =  8\n"
     ]
    }
   ],
   "source": [
    "def listMM(li):\n",
    "     \n",
    "    print(\"min = \", min(li))  \n",
    "    print(\"max = \", max(li))  \n",
    "\n",
    "l1 = [1,2,4,7,8]\n",
    "listMM(l1)"
   ]
  },
  {
   "cell_type": "markdown",
   "id": "b8b7b816",
   "metadata": {
    "papermill": {
     "duration": null,
     "end_time": null,
     "exception": null,
     "start_time": null,
     "status": "pending"
    },
    "tags": []
   },
   "source": [
    "37. List Sorting: Write a Python program to sort a list of integers in ascending order.\n",
    "\n"
   ]
  },
  {
   "cell_type": "code",
   "execution_count": 53,
   "id": "cacd3e7d",
   "metadata": {},
   "outputs": [
    {
     "name": "stdout",
     "output_type": "stream",
     "text": [
      "min =  [1, 7, 8, 26, 54]\n"
     ]
    }
   ],
   "source": [
    "def listSort(li):\n",
    "     \n",
    "    print(\"Sort = \", sorted(li))  \n",
    "\n",
    "l1 = [1,26,54,7,8]\n",
    "listSort(l1)"
   ]
  },
  {
   "cell_type": "markdown",
   "id": "0ff6c183",
   "metadata": {
    "papermill": {
     "duration": null,
     "end_time": null,
     "exception": null,
     "start_time": null,
     "status": "pending"
    },
    "tags": []
   },
   "source": [
    "38. List Filtering: Given a list of integers, write a Python program to create a new list that contains only the even numbers from the original list.\n",
    "\n"
   ]
  },
  {
   "cell_type": "code",
   "execution_count": 57,
   "id": "fb13a05d",
   "metadata": {},
   "outputs": [
    {
     "name": "stdout",
     "output_type": "stream",
     "text": [
      "[2, 4, 8]\n"
     ]
    }
   ],
   "source": [
    "def listFilter(li):\n",
    "    l2 =[]\n",
    "    n = len(l1)\n",
    "    for a in li:\n",
    "        if(int(a%2) == 0):\n",
    "            l2.append(a)\n",
    "    return l2\n",
    "\n",
    "l1 = [1,2,4,7,8]\n",
    "print(listFilter(l1))"
   ]
  },
  {
   "cell_type": "markdown",
   "id": "485fcdc9",
   "metadata": {
    "papermill": {
     "duration": null,
     "end_time": null,
     "exception": null,
     "start_time": null,
     "status": "pending"
    },
    "tags": []
   },
   "source": [
    "39. List Reversal: Write a Python program to reverse a given list without using any built-in functions.\n",
    "\n"
   ]
  },
  {
   "cell_type": "code",
   "execution_count": 62,
   "id": "9e6b5ece",
   "metadata": {},
   "outputs": [
    {
     "name": "stdout",
     "output_type": "stream",
     "text": [
      "[8, 7, 4, 2, 1]\n"
     ]
    }
   ],
   "source": [
    "def listFilter(li):\n",
    "    l2 =li[::-1]\n",
    "    \n",
    "    return l2\n",
    "\n",
    "l1 = [1,2,4,7,8]\n",
    "print(listFilter(l1))"
   ]
  },
  {
   "cell_type": "markdown",
   "id": "ed3c86c9",
   "metadata": {
    "papermill": {
     "duration": null,
     "end_time": null,
     "exception": null,
     "start_time": null,
     "status": "pending"
    },
    "tags": []
   },
   "source": [
    "40. List Manipulation: Given two lists of integers, write a Python program to create a new list that contains elements common to both lists."
   ]
  },
  {
   "cell_type": "code",
   "execution_count": 64,
   "id": "c658fcde",
   "metadata": {},
   "outputs": [
    {
     "name": "stdout",
     "output_type": "stream",
     "text": [
      "[4, 7, 8]\n"
     ]
    }
   ],
   "source": [
    "def listCommon(l1, l2):\n",
    "    comLi =[]\n",
    "    for a in l1:\n",
    "        for b in l2:\n",
    "            if(a==b):\n",
    "                comLi.append(a)\n",
    "    return comLi\n",
    "\n",
    "l1 = [1,2,4,7,8]\n",
    "l2 = [4,5,6,7,8]\n",
    "print(listCommon(l1,l2))"
   ]
  },
  {
   "cell_type": "markdown",
   "id": "6ad2e2d7",
   "metadata": {},
   "source": [
    "41. List Element Count: Write a Python program to count the occurrences of a specific element in a given list.\n",
    "\n"
   ]
  },
  {
   "cell_type": "code",
   "execution_count": 68,
   "id": "ae9a06a9",
   "metadata": {},
   "outputs": [
    {
     "name": "stdout",
     "output_type": "stream",
     "text": [
      "1\n"
     ]
    }
   ],
   "source": [
    "def listCount(l1,key):\n",
    "    count = 0\n",
    "    for a in l1:\n",
    "        if(a==key):\n",
    "            count+=1\n",
    "    return count\n",
    "\n",
    "l1 = [1,2,4,7,8,1,2,5,1,3,2,4,4]\n",
    "print(listCount(l1,5))"
   ]
  },
  {
   "cell_type": "markdown",
   "id": "a3279fa8",
   "metadata": {},
   "source": [
    "42. List Duplicates Removal: Write a Python program to remove duplicates from a given list while preserving the order of the elements.\n",
    "\n"
   ]
  },
  {
   "cell_type": "code",
   "execution_count": 83,
   "id": "6a8cfb16",
   "metadata": {},
   "outputs": [
    {
     "name": "stdout",
     "output_type": "stream",
     "text": [
      "{1, 2, 3, 4, 5, 7, 8}\n"
     ]
    }
   ],
   "source": [
    "def remDup(l1):\n",
    "    updateLi ={x for x in l1}\n",
    "    # for a in l1:\n",
    "    #     updateLi.add(a)\n",
    "    return updateLi\n",
    "\n",
    "l1 = [1,2,4,7,8,1,2,5,1,3,2,4,4]\n",
    "print(remDup(l1))\n",
    "\n"
   ]
  },
  {
   "cell_type": "markdown",
   "id": "78e29160",
   "metadata": {},
   "source": [
    "43. List Comprehension: Given a list of integers, write a Python program to create a new list that contains the squares of the elements using list comprehension."
   ]
  },
  {
   "cell_type": "code",
   "execution_count": null,
   "id": "7e232e7e",
   "metadata": {},
   "outputs": [],
   "source": [
    "li =[2,3,4,5,6]\n",
    "squareLi = [x*x for x in li]\n",
    "print(squareLi)"
   ]
  },
  {
   "cell_type": "markdown",
   "id": "0c19a068",
   "metadata": {
    "papermill": {
     "duration": null,
     "end_time": null,
     "exception": null,
     "start_time": null,
     "status": "pending"
    },
    "tags": []
   },
   "source": [
    "Nested List Problems:\n",
    "===============\n",
    "44. Matrix Addition: Write a Python program to add two matrices represented as nested lists.\n",
    "\n"
   ]
  },
  {
   "cell_type": "code",
   "execution_count": null,
   "id": "96c0c1ee",
   "metadata": {},
   "outputs": [],
   "source": [
    "M1 = [[1,2,3],[4,5,6],[7,8,9]]\n",
    "M2 = [[1,2,3],[4,5,6],[7,8,9]]\n",
    "res = [[0,0,0],[0,0,0],[0,0,0]]\n",
    "addM =[]\n",
    "for i in range(len(M1)):\n",
    "    for j in range(len(M1[0])):\n",
    "        res[i][j]=M1[i][j] + M2[i][j]\n",
    "        \n",
    "print(res)  "
   ]
  },
  {
   "cell_type": "markdown",
   "id": "02f3f5cd",
   "metadata": {
    "papermill": {
     "duration": null,
     "end_time": null,
     "exception": null,
     "start_time": null,
     "status": "pending"
    },
    "tags": []
   },
   "source": [
    "45. Flatten Nested List: Write a Python program to flatten a given nested list and convert it into a single-dimensional list.\n"
   ]
  },
  {
   "cell_type": "code",
   "execution_count": 9,
   "id": "2fd836bb",
   "metadata": {},
   "outputs": [
    {
     "name": "stdout",
     "output_type": "stream",
     "text": [
      "[1, 2, 4, 4, 7, 7, 'good', 2, 'sadika', 'sharmin']\n"
     ]
    }
   ],
   "source": [
    "from pandas.core.common import flatten\n",
    "ln = [[1,2,4],[4,7,7],'good',2,[\"sadika\",\"sharmin\"]]\n",
    "ln1 = list(flatten(ln))\n",
    "print(ln1)"
   ]
  },
  {
   "cell_type": "markdown",
   "id": "80671bac",
   "metadata": {
    "papermill": {
     "duration": null,
     "end_time": null,
     "exception": null,
     "start_time": null,
     "status": "pending"
    },
    "tags": []
   },
   "source": [
    "46. List Element Frequency: Given a nested list containing lists of integers, write a Python program to count the frequency of each element in the entire nested list.\n",
    "\n",
    "\n",
    " \n"
   ]
  },
  {
   "cell_type": "code",
   "execution_count": 15,
   "id": "649a0d88",
   "metadata": {},
   "outputs": [
    {
     "name": "stdout",
     "output_type": "stream",
     "text": [
      "{1: 1, 2: 2, 4: 2, 7: 2, 5: 1, 3: 1, 9: 1}\n"
     ]
    }
   ],
   "source": [
    "def countEle(l1):\n",
    "    freq = {}\n",
    "    for i in l1:\n",
    "        freq[i] =freq.get(i, 0)+1\n",
    "    return freq;    \n",
    "\n",
    "#Step 1- conversion\n",
    "ln = [[1,2,4],[4,7,7],5,2,[3,9]]\n",
    "ln1 = list(flatten(ln)) #one dimension\n",
    "print(countEle(ln1))\n"
   ]
  },
  {
   "cell_type": "markdown",
   "id": "af340591",
   "metadata": {
    "papermill": {
     "duration": null,
     "end_time": null,
     "exception": null,
     "start_time": null,
     "status": "pending"
    },
    "tags": []
   },
   "source": [
    "47. Transpose Matrix: Write a Python program to transpose a given matrix represented as a nested list.\n"
   ]
  },
  {
   "cell_type": "code",
   "execution_count": 17,
   "id": "2a989d35",
   "metadata": {},
   "outputs": [
    {
     "name": "stdout",
     "output_type": "stream",
     "text": [
      "[[1 3 4]\n",
      " [2 5 7]\n",
      " [4 6 8]]\n"
     ]
    }
   ],
   "source": [
    "import numpy as np\n",
    "def transMatrix(l1):\n",
    "    matrix = np.transpose(l1)\n",
    "    return matrix\n",
    "\n",
    "ln = [[1,2,4],[3,5,6],[4,7,8]]\n",
    "print(transMatrix(ln))"
   ]
  },
  {
   "cell_type": "markdown",
   "id": "a771aaa6",
   "metadata": {
    "papermill": {
     "duration": null,
     "end_time": null,
     "exception": null,
     "start_time": null,
     "status": "pending"
    },
    "tags": []
   },
   "source": [
    "\n",
    "48. List of Lists Concatenation: Given a list of nested lists, write a Python program to concatenate all the sublists into a single flat list.\n"
   ]
  },
  {
   "cell_type": "code",
   "execution_count": 20,
   "id": "8a5a3cb2",
   "metadata": {},
   "outputs": [
    {
     "name": "stdout",
     "output_type": "stream",
     "text": [
      "[1, 2, 4, 4, 7, 7, 5, 2, 5, 3, 9]\n"
     ]
    }
   ],
   "source": [
    "ln = [[1,2,4],[4,7],[7],[5,[2,5]],[3,9]]\n",
    "ln1 = list(flatten(ln)) #one dimension\n",
    "print(ln1)"
   ]
  },
  {
   "cell_type": "markdown",
   "id": "90269940",
   "metadata": {
    "papermill": {
     "duration": null,
     "end_time": null,
     "exception": null,
     "start_time": null,
     "status": "pending"
    },
    "tags": []
   },
   "source": [
    "\n",
    "Tuple Problems:\n",
    "============\n",
    "49. Tuple Concatenation: Write a Python program to concatenate two tuples and create a new tuple.\n"
   ]
  },
  {
   "cell_type": "code",
   "execution_count": 21,
   "id": "dcb0c0da",
   "metadata": {},
   "outputs": [
    {
     "name": "stdout",
     "output_type": "stream",
     "text": [
      "(1, 3, 5, 2, 4, 6)\n"
     ]
    }
   ],
   "source": [
    "t1 = (1,3,5)\n",
    "t2 = (2,4,6)\n",
    "\n",
    "res = t1+t2\n",
    "print(res)"
   ]
  },
  {
   "cell_type": "markdown",
   "id": "5edcbe3c",
   "metadata": {},
   "source": [
    "\n",
    "50. Tuple Unpacking: Given a tuple with three elements (x, y, z), write a Python program to unpack the tuple and assign the values to three variables.\n"
   ]
  },
  {
   "cell_type": "code",
   "execution_count": 2,
   "id": "d06be3b2",
   "metadata": {},
   "outputs": [
    {
     "name": "stdout",
     "output_type": "stream",
     "text": [
      "1\n",
      "2\n",
      "3\n"
     ]
    }
   ],
   "source": [
    "t3 = (1,2,3)\n",
    "(x,y,z) = t3 #accessing tuple\n",
    "\n",
    "print(x) # assign value to the variable\n",
    "print(y) # assign value to the variable\n",
    "print(z) # assign value to the variable\n"
   ]
  },
  {
   "cell_type": "markdown",
   "id": "b25aa8c7",
   "metadata": {},
   "source": [
    "\n",
    "51. Tuple Sorting: Write a Python program to sort a tuple of integers in ascending order.\n"
   ]
  },
  {
   "cell_type": "code",
   "execution_count": 24,
   "id": "bc0836dc",
   "metadata": {},
   "outputs": [
    {
     "name": "stdout",
     "output_type": "stream",
     "text": [
      "(2, 4, 5, 6, 7, 9)\n"
     ]
    }
   ],
   "source": [
    "t4 = (4,6,2,9,5,7)\n",
    "sorted_ = tuple(sorted(t4))\n",
    "print(sorted_)"
   ]
  },
  {
   "cell_type": "markdown",
   "id": "2fa8f5c8",
   "metadata": {},
   "source": [
    "\n",
    "52. Tuple Frequency Count: Given a tuple containing various elements, write a Python program to count the frequency of a specific element in the tuple.\n"
   ]
  },
  {
   "cell_type": "code",
   "execution_count": 32,
   "id": "d6518c95",
   "metadata": {},
   "outputs": [
    {
     "name": "stdout",
     "output_type": "stream",
     "text": [
      "3\n"
     ]
    }
   ],
   "source": [
    "def checkFreq(t1, key):\n",
    "    c = list(t1)\n",
    "    count = 1\n",
    "    for i in c:\n",
    "        if(i == key):\n",
    "            count+=1\n",
    "    return count\n",
    "\n",
    "t4 = (4,6,5,2,9,5,7)\n",
    "print(checkFreq(t4,5))\n"
   ]
  },
  {
   "cell_type": "markdown",
   "id": "420a3dbc",
   "metadata": {},
   "source": [
    "\n",
    "53. Tuple to List: Write a Python program to convert a tuple into a list.\n"
   ]
  },
  {
   "cell_type": "code",
   "execution_count": 27,
   "id": "e20eec44",
   "metadata": {},
   "outputs": [
    {
     "name": "stdout",
     "output_type": "stream",
     "text": [
      "['x', 'y', 'z']\n",
      "<class 'list'>\n"
     ]
    }
   ],
   "source": [
    "t3 = (\"x\",\"y\",\"z\")\n",
    "l = list(t3)\n",
    "print(l)\n",
    "print(type(l))"
   ]
  },
  {
   "cell_type": "markdown",
   "id": "2989240d",
   "metadata": {},
   "source": [
    "\n",
    "54. Tuple Reversal: Write a Python program to reverse a tuple without using any built-in functions.\n"
   ]
  },
  {
   "cell_type": "code",
   "execution_count": 40,
   "id": "c5991962",
   "metadata": {},
   "outputs": [
    {
     "name": "stdout",
     "output_type": "stream",
     "text": [
      "(7, 5, 9, 2, 6, 4)\n"
     ]
    }
   ],
   "source": [
    "t4 = (4,6,2,9,5,7)\n",
    "reverse_ = t4[::-1]\n",
    "print(reverse_)"
   ]
  },
  {
   "cell_type": "markdown",
   "id": "683d7d73",
   "metadata": {},
   "source": [
    "\n",
    "55. Tuple Slicing: Given a tuple, write a Python program to extract a slice of elements from it.\n"
   ]
  },
  {
   "cell_type": "code",
   "execution_count": 41,
   "id": "836fb440",
   "metadata": {},
   "outputs": [
    {
     "name": "stdout",
     "output_type": "stream",
     "text": [
      "(2, 9, 5)\n"
     ]
    }
   ],
   "source": [
    "t4 = (4,6,2,9,5,7)\n",
    "reverse_ = t4[2:5:1] \n",
    "print(reverse_)"
   ]
  },
  {
   "cell_type": "markdown",
   "id": "9db6fb06",
   "metadata": {},
   "source": [
    "\n",
    "56. Tuple Operations: Given two tuples of integers, write a Python program to perform element-wise addition, subtraction, and multiplication and create new tuples for each operation.\n"
   ]
  },
  {
   "cell_type": "code",
   "execution_count": 47,
   "id": "797326fc",
   "metadata": {},
   "outputs": [
    {
     "name": "stdout",
     "output_type": "stream",
     "text": [
      "(1, 2, 3, 4, 5, 6)\n"
     ]
    }
   ],
   "source": [
    "t5 = (1,2,3)\n",
    "t6 = (4,5,6)\n",
    "add = t5+t6\n",
    "# sub = t6-t5\n",
    "# multi = t5*t6\n",
    "print(add)\n",
    "# print(sub)\n",
    "# print(multi)"
   ]
  },
  {
   "cell_type": "markdown",
   "id": "0671d3dd",
   "metadata": {},
   "source": [
    "\n",
    "57. Tuple Membership Test: Write a Python program that takes an element as input and checks if it exists in a given tuple.\n"
   ]
  },
  {
   "cell_type": "code",
   "execution_count": 39,
   "id": "669a3dd1",
   "metadata": {},
   "outputs": [
    {
     "name": "stdout",
     "output_type": "stream",
     "text": [
      "not found\n"
     ]
    }
   ],
   "source": [
    "def isExist(t1, key):\n",
    "    c = list(t1)\n",
    "    \n",
    "    for i in c:\n",
    "        if(i == key):\n",
    "            return True\n",
    "    return False\n",
    "\n",
    "t4 = (4,6,5,2,9,5,7)\n",
    "# n = int(input(\"Enter your key\"))\n",
    "n=51\n",
    "ans = (isExist(t4,n))\n",
    "if (ans):\n",
    "    print(\"Element found\")\n",
    "else:\n",
    "    print(\"not found\")"
   ]
  },
  {
   "cell_type": "markdown",
   "id": "92cb92f8",
   "metadata": {},
   "source": [
    "\n",
    "58. Tuple Packing: Write a Python program to pack three variables into a single tuple and print the tuple."
   ]
  },
  {
   "cell_type": "code",
   "execution_count": 48,
   "id": "e40344fa",
   "metadata": {},
   "outputs": [
    {
     "name": "stdout",
     "output_type": "stream",
     "text": [
      "('a', 'b', 'c')\n"
     ]
    }
   ],
   "source": [
    "x = ('a',)\n",
    "y = ('b',)\n",
    "z = ('c',)\n",
    "\n",
    "t = x+y+z\n",
    "print(t)"
   ]
  },
  {
   "cell_type": "markdown",
   "id": "cd238afa",
   "metadata": {
    "papermill": {
     "duration": null,
     "end_time": null,
     "exception": null,
     "start_time": null,
     "status": "pending"
    },
    "tags": []
   },
   "source": [
    "Nested List Problems:\n",
    "=========\n",
    "59. Nested List Element Access: Given a nested list, write a Python program to access and print specific elements from it.\n"
   ]
  },
  {
   "cell_type": "code",
   "execution_count": 4,
   "id": "88bdf0ba",
   "metadata": {},
   "outputs": [
    {
     "name": "stdout",
     "output_type": "stream",
     "text": [
      "79\n"
     ]
    }
   ],
   "source": [
    "\n",
    "ln = [[1,2,4],[4,7,[6,7,79],7],2,]\n",
    "#accessing 79 from the List\n",
    "x=ln[1][2][2]\n",
    "print(x) "
   ]
  },
  {
   "cell_type": "markdown",
   "id": "4894558b",
   "metadata": {
    "papermill": {
     "duration": null,
     "end_time": null,
     "exception": null,
     "start_time": null,
     "status": "pending"
    },
    "tags": []
   },
   "source": [
    "60. Nested List Flattening: Write a Python program to flatten a nested list and convert it into a single-dimensional list.\n"
   ]
  },
  {
   "cell_type": "code",
   "execution_count": 3,
   "id": "d9ed0bf5",
   "metadata": {},
   "outputs": [
    {
     "name": "stdout",
     "output_type": "stream",
     "text": [
      "[1, 2, 3, 4, 5, 6, 7]\n"
     ]
    }
   ],
   "source": [
    "my_list = [[1], [2, 3], [4, 5, 6, 7]]\n",
    "\n",
    "flat_list = sum(my_list, [])\n",
    "print(flat_list)"
   ]
  },
  {
   "cell_type": "markdown",
   "id": "0fcdcbb1",
   "metadata": {
    "papermill": {
     "duration": null,
     "end_time": null,
     "exception": null,
     "start_time": null,
     "status": "pending"
    },
    "tags": []
   },
   "source": [
    "61. Nested List Sorting: Given a nested list containing lists of integers, write a Python program to sort the sublists based on their lengths.\n",
    "\n"
   ]
  },
  {
   "cell_type": "code",
   "execution_count": 4,
   "id": "097220db",
   "metadata": {},
   "outputs": [
    {
     "name": "stdout",
     "output_type": "stream",
     "text": [
      "[[1], [2, 3], [1, 5, 7], [4, 5, 6, 7]]\n"
     ]
    }
   ],
   "source": [
    "ini_list = [[1,5,7], [2, 3], [4, 5, 6, 7],[1]]\n",
    "result = sorted(ini_list, key = len)\n",
    "print(result)"
   ]
  },
  {
   "cell_type": "markdown",
   "id": "0c70ca41",
   "metadata": {
    "papermill": {
     "duration": null,
     "end_time": null,
     "exception": null,
     "start_time": null,
     "status": "pending"
    },
    "tags": []
   },
   "source": [
    "62. List of Tuples Conversion: Given a nested list containing tuples of (x, y) coordinates, write a Python program to convert it into a list of x-coordinates and a list of y-coordinates.\n",
    "\n"
   ]
  },
  {
   "cell_type": "code",
   "execution_count": 2,
   "id": "127c4e66",
   "metadata": {},
   "outputs": [
    {
     "name": "stdout",
     "output_type": "stream",
     "text": [
      "((1, 2), (2, 4))\n"
     ]
    }
   ],
   "source": [
    "ini_tuple = ((1,2),(2,4))\n",
    "\n",
    "# list(ini_tuple)\n",
    "final = [tuple(map(int, line.split(\",\"))) for line in ini_tuple]\n",
    "print(final) "
   ]
  },
  {
   "cell_type": "markdown",
   "id": "291ecb79",
   "metadata": {
    "papermill": {
     "duration": null,
     "end_time": null,
     "exception": null,
     "start_time": null,
     "status": "pending"
    },
    "tags": []
   },
   "source": [
    "63. Matrix Transpose: Write a Python program to transpose a given matrix represented as a nested list.\n",
    "\n"
   ]
  },
  {
   "cell_type": "code",
   "execution_count": 11,
   "id": "e6129d9d",
   "metadata": {},
   "outputs": [
    {
     "name": "stdout",
     "output_type": "stream",
     "text": [
      "Transope Matrix:\n",
      "[[1 4]\n",
      " [2 5]\n",
      " [3 6]]\n"
     ]
    }
   ],
   "source": [
    "import numpy as np\n",
    "arr1 = np.array([[1, 2, 3], [4, 5, 6]])\n",
    "print(f'Transope Matrix:')\n",
    "\n",
    "arr1_transpose = arr1.transpose()\n",
    "print(arr1_transpose)"
   ]
  },
  {
   "cell_type": "markdown",
   "id": "a5329daa",
   "metadata": {
    "papermill": {
     "duration": null,
     "end_time": null,
     "exception": null,
     "start_time": null,
     "status": "pending"
    },
    "tags": []
   },
   "source": [
    "64. Nested List Concatenation: Given a list of nested lists, write a Python program to concatenate all the sublists into a single flat list."
   ]
  },
  {
   "cell_type": "code",
   "execution_count": 12,
   "id": "0d1712a6",
   "metadata": {},
   "outputs": [
    {
     "name": "stdout",
     "output_type": "stream",
     "text": [
      "[1, 5, 7, 2, 3, 4, 5, 6, 7, 1]\n"
     ]
    }
   ],
   "source": [
    "ini_list = [[1,5,7], [2, 3], [4, 5, 6, 7],[1]]\n",
    "result = sum(ini_list, [])\n",
    "print(result)"
   ]
  },
  {
   "cell_type": "markdown",
   "id": "e853f525",
   "metadata": {
    "papermill": {
     "duration": null,
     "end_time": null,
     "exception": null,
     "start_time": null,
     "status": "pending"
    },
    "tags": []
   },
   "source": [
    "65. Count Even Numbers: Write a Python program to count the number of even numbers in a nested list."
   ]
  },
  {
   "cell_type": "code",
   "execution_count": 13,
   "id": "e18e63d4",
   "metadata": {},
   "outputs": [
    {
     "name": "stdout",
     "output_type": "stream",
     "text": [
      "3\n"
     ]
    }
   ],
   "source": [
    "count=0\n",
    "ini_list = [[1,5,7], [2, 3], [4, 5, 6, 7],[1]]\n",
    "result = sum(ini_list, [])\n",
    "for item in result:\n",
    "    if(item%2==0):\n",
    "        count += 1\n",
    "print(count)"
   ]
  },
  {
   "cell_type": "markdown",
   "id": "88743d9b",
   "metadata": {
    "papermill": {
     "duration": null,
     "end_time": null,
     "exception": null,
     "start_time": null,
     "status": "pending"
    },
    "tags": []
   },
   "source": [
    "66. Maximum Element in Nested List: Write a Python program to find the maximum element in a nested list of integers."
   ]
  },
  {
   "cell_type": "code",
   "execution_count": 23,
   "id": "613f07ef",
   "metadata": {},
   "outputs": [
    {
     "name": "stdout",
     "output_type": "stream",
     "text": [
      "2\n"
     ]
    }
   ],
   "source": [
    "count=0\n",
    "ini_list = [[1,5,2,4], [2, 3], [4, 2, 6, 7],[1]]\n",
    "result = sum(ini_list, [])\n",
    "new_arr = {}\n",
    "for item in result:\n",
    "    if item in new_arr:\n",
    "        new_arr[item] +=1\n",
    "    else:\n",
    "        new_arr[item] = 1\n",
    "print(max(new_arr, key= lambda x: new_arr[x]))"
   ]
  },
  {
   "cell_type": "markdown",
   "id": "ea8325af",
   "metadata": {
    "papermill": {
     "duration": null,
     "end_time": null,
     "exception": null,
     "start_time": null,
     "status": "pending"
    },
    "tags": []
   },
   "source": [
    "67. Diagonal Sum of Matrix: Given a square matrix represented as a nested list, write a Python program to calculate the sum of the elements in the main diagonal.\n"
   ]
  },
  {
   "cell_type": "code",
   "execution_count": 34,
   "id": "c86a0672",
   "metadata": {},
   "outputs": [
    {
     "name": "stdout",
     "output_type": "stream",
     "text": [
      "18\n"
     ]
    }
   ],
   "source": [
    "def printDiagonalSums(a,n):\n",
    "    sum=0\n",
    "    for i in range(0,n):\n",
    "        for j in range(0,n):\n",
    "            if(i==j):\n",
    "                sum += a[i][j]\n",
    "                # print(sum)\n",
    "    return sum\n",
    "\n",
    "a = [[ 1, 2, 3, 4 ],\n",
    "     [ 5, 6, 7, 8 ], \n",
    "     [ 1, 2, 3, 4 ],\n",
    "      [ 5, 6, 7, 8 ]]\n",
    "\n",
    "print(printDiagonalSums(a,4))"
   ]
  },
  {
   "cell_type": "markdown",
   "id": "9892f8fb",
   "metadata": {
    "papermill": {
     "duration": null,
     "end_time": null,
     "exception": null,
     "start_time": null,
     "status": "pending"
    },
    "tags": []
   },
   "source": [
    "68. Nested List Element Search: Write a Python program to search for a specific element in a nested list and return its position (row and column indices)."
   ]
  },
  {
   "cell_type": "code",
   "execution_count": 38,
   "id": "2c44f7e6",
   "metadata": {},
   "outputs": [
    {
     "name": "stdout",
     "output_type": "stream",
     "text": [
      "(1, 1)\n"
     ]
    }
   ],
   "source": [
    "def SearchEle(a,n, key):\n",
    "    \n",
    "    for i in range(0,n):\n",
    "        for j in range(0,n):\n",
    "            if(a[i][j] == key):\n",
    "                return i,j\n",
    "                \n",
    "\n",
    "a = [[ 1, 2, 3],\n",
    "     [ 5, 6, 7], \n",
    "     [ 1, 2, 3]]\n",
    "key= 6\n",
    "\n",
    "print(SearchEle(a,3,key))"
   ]
  },
  {
   "cell_type": "markdown",
   "id": "ceedaaf9",
   "metadata": {
    "papermill": {
     "duration": null,
     "end_time": null,
     "exception": null,
     "start_time": null,
     "status": "pending"
    },
    "tags": []
   },
   "source": [
    "Set Problems:\n",
    "=====\n",
    "69. Duplicate Removal: Write a Python program that takes a list of elements as input and creates a new set containing only the unique elements from the list."
   ]
  },
  {
   "cell_type": "code",
   "execution_count": 39,
   "id": "b3ad607b",
   "metadata": {},
   "outputs": [
    {
     "name": "stdout",
     "output_type": "stream",
     "text": [
      "{1, 2, 3, 4, 5, 6, 7}\n"
     ]
    }
   ],
   "source": [
    "ini_list = [1,5,2,4,2, 3,4, 2, 6, 7,1]\n",
    "new_set = set(ini_list)\n",
    "print(new_set)"
   ]
  },
  {
   "cell_type": "markdown",
   "id": "c67af916",
   "metadata": {
    "papermill": {
     "duration": null,
     "end_time": null,
     "exception": null,
     "start_time": null,
     "status": "pending"
    },
    "tags": []
   },
   "source": [
    "70. Set Intersection: Given two sets A and B, write a Python program to find their intersection and print the common elements.\n",
    "\n"
   ]
  },
  {
   "cell_type": "code",
   "execution_count": 41,
   "id": "cbc7cf0d",
   "metadata": {},
   "outputs": [
    {
     "name": "stdout",
     "output_type": "stream",
     "text": [
      "{4}\n"
     ]
    }
   ],
   "source": [
    "set1 = {4,5,6,7}\n",
    "set2 = {4,8,9}\n",
    "\n",
    "r = set1.intersection(set2)\n",
    "print(r)"
   ]
  },
  {
   "cell_type": "markdown",
   "id": "749e70bf",
   "metadata": {
    "papermill": {
     "duration": null,
     "end_time": null,
     "exception": null,
     "start_time": null,
     "status": "pending"
    },
    "tags": []
   },
   "source": [
    "71. Set Union: Given two sets A and B, write a Python program to find their union and print all the distinct elements from both sets.\n"
   ]
  },
  {
   "cell_type": "code",
   "execution_count": 42,
   "id": "dfa6ed3d",
   "metadata": {},
   "outputs": [
    {
     "name": "stdout",
     "output_type": "stream",
     "text": [
      "{4, 5, 6, 7, 8, 9}\n"
     ]
    }
   ],
   "source": [
    "set1 = {4,5,6,7}\n",
    "set2 = {4,8,9}\n",
    "\n",
    "r = set1.union(set2)\n",
    "print(r)"
   ]
  },
  {
   "cell_type": "markdown",
   "id": "676db312",
   "metadata": {
    "papermill": {
     "duration": null,
     "end_time": null,
     "exception": null,
     "start_time": null,
     "status": "pending"
    },
    "tags": []
   },
   "source": [
    "\n",
    "72. Set Difference: Given two sets A and B, write a Python program to find the difference between set A and set B (i.e., elements present in A but not in B) and print the result.\n"
   ]
  },
  {
   "cell_type": "code",
   "execution_count": 46,
   "id": "c6a416e2",
   "metadata": {},
   "outputs": [
    {
     "name": "stdout",
     "output_type": "stream",
     "text": [
      "{5, 6, 7}\n",
      "{8, 9}\n"
     ]
    }
   ],
   "source": [
    "A = {4,5,6,7}\n",
    "B = {4,8,9}\n",
    "\n",
    "r = A.difference(B)\n",
    "r2 = B.difference(A)\n",
    "print(r)\n",
    "print(r2)"
   ]
  },
  {
   "cell_type": "markdown",
   "id": "116f288a",
   "metadata": {
    "papermill": {
     "duration": null,
     "end_time": null,
     "exception": null,
     "start_time": null,
     "status": "pending"
    },
    "tags": []
   },
   "source": [
    "73. Set Symmetric Difference: Given two sets A and B, write a Python program to find the symmetric difference between the two sets (i.e., elements that are present in either set A or set B, but not in both) and print the result."
   ]
  },
  {
   "cell_type": "code",
   "execution_count": 47,
   "id": "c9673ed3",
   "metadata": {},
   "outputs": [
    {
     "name": "stdout",
     "output_type": "stream",
     "text": [
      "{5, 6, 7, 8, 9}\n"
     ]
    }
   ],
   "source": [
    "A = {4,5,6,7}\n",
    "B = {4,8,9}\n",
    "\n",
    "r = A.symmetric_difference(B)\n",
    "print(r)"
   ]
  },
  {
   "cell_type": "markdown",
   "id": "71252ea9",
   "metadata": {
    "papermill": {
     "duration": null,
     "end_time": null,
     "exception": null,
     "start_time": null,
     "status": "pending"
    },
    "tags": []
   },
   "source": [
    "74. Set Operations: Given three sets A, B, and C, write a Python program to find and print the intersection of A and B, the union of B and C, and the difference between C and A.\n",
    "\n"
   ]
  },
  {
   "cell_type": "code",
   "execution_count": 49,
   "id": "66ae1e59",
   "metadata": {},
   "outputs": [
    {
     "name": "stdout",
     "output_type": "stream",
     "text": [
      "intersection is {4}\n",
      "Union is {4, 7, 8, 9}\n",
      "Difference is {8, 9}\n"
     ]
    }
   ],
   "source": [
    "A = {4,5,6,7}\n",
    "B = {4,8,9}\n",
    "C = {7,8,9}\n",
    "r = A.intersection(B)\n",
    "r2 = B.union(C)\n",
    "r3 = C.difference(A)\n",
    "print(\"intersection is\",r)\n",
    "print(\"Union is\",r2)\n",
    "print(\"Difference is\",r3)"
   ]
  },
  {
   "cell_type": "markdown",
   "id": "73d97a0f",
   "metadata": {
    "papermill": {
     "duration": null,
     "end_time": null,
     "exception": null,
     "start_time": null,
     "status": "pending"
    },
    "tags": []
   },
   "source": [
    "75. Set Subset Check: Given two sets A and B, write a Python program to check if set A is a subset of set B and print the result."
   ]
  },
  {
   "cell_type": "code",
   "execution_count": 54,
   "id": "1a73c691",
   "metadata": {},
   "outputs": [
    {
     "name": "stdout",
     "output_type": "stream",
     "text": [
      "True\n"
     ]
    }
   ],
   "source": [
    "A = {4,5,6,7}\n",
    "B = {4,7}\n",
    "\n",
    "r = B.issubset(A)\n",
    "print(r)"
   ]
  },
  {
   "cell_type": "markdown",
   "id": "2ef67fc5",
   "metadata": {
    "papermill": {
     "duration": null,
     "end_time": null,
     "exception": null,
     "start_time": null,
     "status": "pending"
    },
    "tags": []
   },
   "source": [
    "76. Set Superset Check: Given two sets A and B, write a Python program to check if set A is a superset of set B and print the result."
   ]
  },
  {
   "cell_type": "code",
   "execution_count": 53,
   "id": "a2e5c9ce",
   "metadata": {},
   "outputs": [
    {
     "name": "stdout",
     "output_type": "stream",
     "text": [
      "False\n"
     ]
    }
   ],
   "source": [
    "A = {4,5,6,7}\n",
    "B = {4,8}\n",
    "\n",
    "r = B.issuperset(A)\n",
    "print(r)"
   ]
  },
  {
   "cell_type": "markdown",
   "id": "ea9df323",
   "metadata": {
    "papermill": {
     "duration": null,
     "end_time": null,
     "exception": null,
     "start_time": null,
     "status": "pending"
    },
    "tags": []
   },
   "source": [
    "77. Set Length Check: Write a Python program that takes a set as input and prints the number of elements in the set.\n"
   ]
  },
  {
   "cell_type": "code",
   "execution_count": 55,
   "id": "c74b16ce",
   "metadata": {},
   "outputs": [
    {
     "name": "stdout",
     "output_type": "stream",
     "text": [
      "4\n"
     ]
    }
   ],
   "source": [
    "A = {4,5,6,7}\n",
    "\n",
    "r = len(A)\n",
    "print(r)"
   ]
  },
  {
   "cell_type": "markdown",
   "id": "a844d687",
   "metadata": {
    "papermill": {
     "duration": null,
     "end_time": null,
     "exception": null,
     "start_time": null,
     "status": "pending"
    },
    "tags": []
   },
   "source": [
    "\n",
    "76. Set Membership Test: Write a Python program that takes an element as input and checks if it exists in a given set. Print “Found” if the element is present and “Not Found” otherwise."
   ]
  },
  {
   "cell_type": "code",
   "execution_count": 56,
   "id": "8ebe37f9",
   "metadata": {},
   "outputs": [
    {
     "name": "stdout",
     "output_type": "stream",
     "text": [
      "found\n"
     ]
    }
   ],
   "source": [
    "A = {4,5,6,7}\n",
    "ele = 5\n",
    "if ele in A:\n",
    "    print(\"found\")\n",
    "else:\n",
    "    print(\"not\")"
   ]
  },
  {
   "cell_type": "markdown",
   "id": "e4c66ad1",
   "metadata": {
    "papermill": {
     "duration": null,
     "end_time": null,
     "exception": null,
     "start_time": null,
     "status": "pending"
    },
    "tags": []
   },
   "source": [
    "Dictionary Problems:\n",
    "=====\n",
    "77. Dictionary Manipulation: Given a dictionary with student names as keys and their corresponding scores as values, write a Python program to add a new student to the dictionary and update the score of an existing student.\n"
   ]
  },
  {
   "cell_type": "code",
   "execution_count": 6,
   "id": "e135db69",
   "metadata": {},
   "outputs": [
    {
     "name": "stdout",
     "output_type": "stream",
     "text": [
      "70\n",
      "{'kabir': 70, 'manha': 99, 'Mariam': 95, 'Maisyara': 60}\n",
      "kabir 70\n",
      "manha 99\n",
      "Mariam 95\n",
      "Maisyara 60\n"
     ]
    }
   ],
   "source": [
    "dec1 = {\n",
    "    \"kabir\" : 70,\n",
    "    \"manha\" : 99,\n",
    "    \"Mariam\" : 95\n",
    "}\n",
    "\n",
    "print(dec1[\"kabir\"])\n",
    "\n",
    "#add new value in dictionary\n",
    "dec1[\"Maisyara\"] = 60\n",
    "print(dec1)"
   ]
  },
  {
   "cell_type": "markdown",
   "id": "dd0df12f",
   "metadata": {
    "papermill": {
     "duration": null,
     "end_time": null,
     "exception": null,
     "start_time": null,
     "status": "pending"
    },
    "tags": []
   },
   "source": [
    "78. Dictionary Keys and Values: Write a Python program that takes a dictionary as input and prints all the keys and values in separate lines."
   ]
  },
  {
   "cell_type": "code",
   "execution_count": null,
   "id": "466cdcb1",
   "metadata": {},
   "outputs": [],
   "source": [
    "dec2 = {}\n",
    "n = int(input(\"Enter dictionary size\"))\n",
    "for i in range(0,n):\n",
    "    keys = input(\"Enter key for\" ,i)\n",
    "    values = input(\"Enter value for\" ,i)\n",
    "    dec2[keys] = values\n",
    "\n",
    "print(dec2)\n",
    "for i in dec2:\n",
    "    print (i, dec2[i])"
   ]
  },
  {
   "cell_type": "markdown",
   "id": "034d8367",
   "metadata": {
    "papermill": {
     "duration": null,
     "end_time": null,
     "exception": null,
     "start_time": null,
     "status": "pending"
    },
    "tags": []
   },
   "source": [
    "79. Dictionary Length: Write a Python program to calculate and print the number of key-value pairs in a given dictionary.\n",
    "\n"
   ]
  },
  {
   "cell_type": "code",
   "execution_count": 7,
   "id": "de8c8e2e",
   "metadata": {},
   "outputs": [
    {
     "name": "stdout",
     "output_type": "stream",
     "text": [
      "3\n"
     ]
    }
   ],
   "source": [
    "dec1 = {\n",
    "    \"kabir\" : 70,\n",
    "    \"manha\" : 99,\n",
    "    \"Mariam\" : 95\n",
    "}\n",
    "\n",
    "print(len(dec1))"
   ]
  },
  {
   "cell_type": "markdown",
   "id": "9f82a012",
   "metadata": {
    "papermill": {
     "duration": null,
     "end_time": null,
     "exception": null,
     "start_time": null,
     "status": "pending"
    },
    "tags": []
   },
   "source": [
    "80. Dictionary Value Search: Given a dictionary of items and their prices, write a Python program to search for an item based on its price and print the item’s name.\n",
    "\n"
   ]
  },
  {
   "cell_type": "code",
   "execution_count": 11,
   "id": "aa110580",
   "metadata": {},
   "outputs": [
    {
     "name": "stdout",
     "output_type": "stream",
     "text": [
      "food\n"
     ]
    }
   ],
   "source": [
    "dec1 = {\n",
    "    \"shoes\" : 770,\n",
    "    \"food\" : 199,\n",
    "    \"makeup\" : 995\n",
    "}\n",
    "\n",
    "for x,y in dec1.items():\n",
    "    if(y == 199):\n",
    "        print(x)"
   ]
  },
  {
   "cell_type": "markdown",
   "id": "3845d092",
   "metadata": {
    "papermill": {
     "duration": null,
     "end_time": null,
     "exception": null,
     "start_time": null,
     "status": "pending"
    },
    "tags": []
   },
   "source": [
    "81. Dictionary Merging: Given two dictionaries, write a Python program to merge them into a single dictionary and print the result.\n",
    "\n"
   ]
  },
  {
   "cell_type": "code",
   "execution_count": 16,
   "id": "0aa45494",
   "metadata": {},
   "outputs": [
    {
     "name": "stdout",
     "output_type": "stream",
     "text": [
      "{'shoes': 770, 'food': 199, 'makeup': 995, 'kabir': 70, 'manha': 99, 'Mariam': 95}\n"
     ]
    }
   ],
   "source": [
    "dic1 = {\n",
    "    \"shoes\" : 770,\n",
    "    \"food\" : 199,\n",
    "    \"makeup\" : 995\n",
    "}\n",
    "dic2 = {\n",
    "    \"kabir\" : 70,\n",
    "    \"manha\" : 99,\n",
    "    \"Mariam\" : 95\n",
    "}\n",
    "dic1.update(dic2)\n",
    "print(dic1)"
   ]
  },
  {
   "cell_type": "markdown",
   "id": "f4a11fc7",
   "metadata": {
    "papermill": {
     "duration": null,
     "end_time": null,
     "exception": null,
     "start_time": null,
     "status": "pending"
    },
    "tags": []
   },
   "source": [
    "82. Dictionary Key Removal: Given a dictionary of items and their quantities, write a Python program to remove a specific item from the dictionary based on user input.\n",
    "\n"
   ]
  },
  {
   "cell_type": "code",
   "execution_count": 17,
   "id": "0882ccda",
   "metadata": {},
   "outputs": [
    {
     "name": "stdout",
     "output_type": "stream",
     "text": [
      "{'shoes': 770, 'makeup': 995}\n"
     ]
    }
   ],
   "source": [
    "dic1 = {\n",
    "    \"shoes\" : 770,\n",
    "    \"food\" : 199,\n",
    "    \"makeup\" : 995\n",
    "}\n",
    "\n",
    "dic1.pop(\"food\")\n",
    "print(dic1)"
   ]
  },
  {
   "cell_type": "markdown",
   "id": "6a12c937",
   "metadata": {
    "papermill": {
     "duration": null,
     "end_time": null,
     "exception": null,
     "start_time": null,
     "status": "pending"
    },
    "tags": []
   },
   "source": [
    "83. Dictionary Sorting: Given a dictionary with names as keys and corresponding ages as values, write a Python program to sort the dictionary based on age in ascending order.\n",
    "\n"
   ]
  },
  {
   "cell_type": "code",
   "execution_count": 3,
   "id": "26f1e8cd",
   "metadata": {},
   "outputs": [
    {
     "name": "stdout",
     "output_type": "stream",
     "text": [
      "{'rajnish': 9, 'ravi': 10, 'sanjeev': 15, 'suraj': 32, 'yash': 2}\n"
     ]
    }
   ],
   "source": [
    "myDict = {'ravi': 10, 'rajnish': 9,\n",
    "        'sanjeev': 15, 'yash': 2, 'suraj': 32}\n",
    "\n",
    "myKeys = list(myDict.keys())\n",
    "myKeys.sort()\n",
    "sorted_dict = {i: myDict[i] for i in myKeys}\n",
    "\n",
    "print(sorted_dict)"
   ]
  },
  {
   "cell_type": "markdown",
   "id": "c6e4e394",
   "metadata": {
    "papermill": {
     "duration": null,
     "end_time": null,
     "exception": null,
     "start_time": null,
     "status": "pending"
    },
    "tags": []
   },
   "source": [
    "84. Dictionary Frequency Count: Write a Python program that takes a string as input and creates a dictionary containing each character as a key and its frequency as the value.\n",
    "\n"
   ]
  },
  {
   "cell_type": "code",
   "execution_count": null,
   "id": "4bf2910a",
   "metadata": {},
   "outputs": [],
   "source": [
    "myDict = {}\n",
    "\n",
    "str = \"abacdbda\"\n",
    "for i in str:\n",
    "    if i in myDict:\n",
    "        myDict[i] +=1\n",
    "    else:\n",
    "        myDict[i] = 1\n",
    "print(myDict)"
   ]
  },
  {
   "cell_type": "markdown",
   "id": "eded9dfc",
   "metadata": {
    "papermill": {
     "duration": null,
     "end_time": null,
     "exception": null,
     "start_time": null,
     "status": "pending"
    },
    "tags": []
   },
   "source": [
    "85. Dictionary Comprehension: Given a list of integers, write a Python program to create a dictionary where the keys are the elements from the list, and the values are their squares.\n",
    "\n"
   ]
  },
  {
   "cell_type": "code",
   "execution_count": 9,
   "id": "bb5cf301",
   "metadata": {},
   "outputs": [
    {
     "name": "stdout",
     "output_type": "stream",
     "text": [
      "{2: 4, 4: 16, 5: 25, 3: 9, 6: 36, 7: 49}\n"
     ]
    }
   ],
   "source": [
    "li = [2,4,5,3,4,5,2,6,7]\n",
    "myD = {i : i*i for i in li} #{key:expression for loop}\n",
    "print(myD)"
   ]
  },
  {
   "cell_type": "markdown",
   "id": "23db38ac",
   "metadata": {
    "papermill": {
     "duration": null,
     "end_time": null,
     "exception": null,
     "start_time": null,
     "status": "pending"
    },
    "tags": []
   },
   "source": [
    "86. Dictionary Key Check: Write a Python program that takes a key as input and checks if it exists in a given dictionary. Print “Key Found” if the key is present and “Key Not Found” otherwise."
   ]
  },
  {
   "cell_type": "code",
   "execution_count": 10,
   "id": "104db800",
   "metadata": {},
   "outputs": [],
   "source": [
    "A = {2: 4, 4: 16, 5: 25, 3: 9, 6: 36, 7: 49}\n",
    "ele = int(input(\"Give value\"))\n",
    "if ele in A.keys():\n",
    "    print(\"found\")\n",
    "else:\n",
    "    print(\"not found\")"
   ]
  },
  {
   "cell_type": "markdown",
   "id": "5eb0c6f7",
   "metadata": {
    "papermill": {
     "duration": null,
     "end_time": null,
     "exception": null,
     "start_time": null,
     "status": "pending"
    },
    "tags": []
   },
   "source": [
    " \n",
    "Nested Dictionary Problems:\n",
    "=====\n",
    "87. Access Nested Dictionary: Given a nested dictionary containing student details, write a Python program to access and print specific information such as a student’s name, age, and address.\n"
   ]
  },
  {
   "cell_type": "code",
   "execution_count": 3,
   "id": "92b624d7",
   "metadata": {},
   "outputs": [
    {
     "name": "stdout",
     "output_type": "stream",
     "text": [
      "Sadika\n",
      "22\n"
     ]
    }
   ],
   "source": [
    "dicS = {\n",
    "    \"s1\" : \"Sadika\",\n",
    "    \"s2\" : \"Sharmin\"\n",
    "}\n",
    "stuAge ={\n",
    "    \"Sadika\" : 22,\n",
    "    \"Sharmin\" :23\n",
    "}\n",
    "stuAdd = {\n",
    "    \"Sadika\" : \"Dhaka\",\n",
    "    \"Sharmin\" :\"Tangail\"\n",
    "}\n",
    "\n",
    "dic = {\n",
    "    \"name\" : dicS,\n",
    "    \"Age\" : stuAge,\n",
    "    \"Add\" : stuAdd\n",
    "}\n",
    "\n",
    "print(dic['name']['s1'])\n",
    "print(dic['Age']['Sadika'])"
   ]
  },
  {
   "cell_type": "markdown",
   "id": "903636bd",
   "metadata": {
    "papermill": {
     "duration": null,
     "end_time": null,
     "exception": null,
     "start_time": null,
     "status": "pending"
    },
    "tags": []
   },
   "source": [
    "88. Nested Dictionary Length: Write a Python program to calculate and print the total number of key-value pairs in a nested dictionary.\n"
   ]
  },
  {
   "cell_type": "code",
   "execution_count": 7,
   "id": "1c938746",
   "metadata": {},
   "outputs": [
    {
     "name": "stdout",
     "output_type": "stream",
     "text": [
      "9\n"
     ]
    }
   ],
   "source": [
    "dicS = {\n",
    "    \"s1\" : \"Sadika\",\n",
    "    \"s2\" : \"Sharmin\"\n",
    "}\n",
    "stuAge ={\n",
    "    \"Sadika\" : 22,\n",
    "    \"Sharmin\" :23\n",
    "}\n",
    "stuAdd = {\n",
    "    \"Sadika\" : \"Dhaka\",\n",
    "    \"Sharmin\" :\"Tangail\"\n",
    "}\n",
    "\n",
    "dict2 = {\n",
    "    \"name\" : dicS,\n",
    "    \"Age\" : stuAge,\n",
    "    \"Add\" : stuAdd\n",
    "}\n",
    "\n",
    "length = len(dict2)\n",
    " \n",
    "# iterating to find the length\n",
    "#  of all inner dictionaries\n",
    "for i in dict2.values():\n",
    "    # checking whether the value is a dictionary\n",
    "    if isinstance(i, dict): #details : https://w3schools.com/python/ref_func_isinstance.asp\n",
    "        length += len(i)\n",
    "\n",
    "print(length)\n"
   ]
  },
  {
   "cell_type": "markdown",
   "id": "8e17bd4b",
   "metadata": {
    "papermill": {
     "duration": null,
     "end_time": null,
     "exception": null,
     "start_time": null,
     "status": "pending"
    },
    "tags": []
   },
   "source": [
    "\n",
    "89. Nested Dictionary Update: Given a nested dictionary of employee details, write a Python program to update an employee’s salary based on their employee ID.\n"
   ]
  },
  {
   "cell_type": "code",
   "execution_count": 9,
   "id": "6a3b05c3",
   "metadata": {},
   "outputs": [
    {
     "name": "stdout",
     "output_type": "stream",
     "text": [
      "Manha\n"
     ]
    }
   ],
   "source": [
    "dicS = {\n",
    "    \"s1\" : \"Sadika\",\n",
    "    \"s2\" : \"Sharmin\"\n",
    "}\n",
    "stuAge ={\n",
    "    \"Sadika\" : 22,\n",
    "    \"Sharmin\" :23\n",
    "}\n",
    "\n",
    "\n",
    "dict2 = {\n",
    "    \"name\" : dicS,\n",
    "    \"Age\" : stuAge\n",
    "}\n",
    "\n",
    "dict2['name']['s1'] = \"Manha\"  #updating nested loop\n",
    "print(dict2['name']['s1'])"
   ]
  },
  {
   "cell_type": "markdown",
   "id": "871ff0ea",
   "metadata": {
    "papermill": {
     "duration": null,
     "end_time": null,
     "exception": null,
     "start_time": null,
     "status": "pending"
    },
    "tags": []
   },
   "source": [
    "\n",
    "90. Nested Dictionary Sorting: Given a nested dictionary containing product details (product name, price, and quantity), write a Python program to sort the products based on their prices in ascending order.\n"
   ]
  },
  {
   "cell_type": "code",
   "execution_count": 14,
   "id": "17a3ba19",
   "metadata": {},
   "outputs": [
    {
     "name": "stdout",
     "output_type": "stream",
     "text": [
      "[('drink', {'price': 12, 'quantity': 15}), ('food', {'price': 24, 'quantity': 17}), ('bag', {'price': 54, 'quantity': 12})]\n"
     ]
    }
   ],
   "source": [
    "import operator\n",
    "\n",
    "# initializing dictionary\n",
    "test_dict = {'food': {'price': 24, 'quantity': 17},\n",
    "\t\t\t'bag': {'price': 54, 'quantity': 12},\n",
    "\t\t\t'drink': {'price': 12, 'quantity': 15}}\n",
    "\n",
    "\n",
    "res = sorted(test_dict.items(), key=lambda x: (x[1]['price'], x[0]))\n",
    "\n",
    "# print result\n",
    "print(str(res))\n"
   ]
  },
  {
   "cell_type": "markdown",
   "id": "4235cfb9",
   "metadata": {
    "papermill": {
     "duration": null,
     "end_time": null,
     "exception": null,
     "start_time": null,
     "status": "pending"
    },
    "tags": []
   },
   "source": [
    "\n",
    "91. Nested Dictionary Key Search: Write a Python program that takes a key as input and searches for it in a nested dictionary. If found, print the corresponding value, otherwise, print “Key Not Found.”\n"
   ]
  },
  {
   "cell_type": "code",
   "execution_count": 15,
   "id": "76c97185",
   "metadata": {},
   "outputs": [
    {
     "name": "stdout",
     "output_type": "stream",
     "text": [
      "not found\n"
     ]
    }
   ],
   "source": [
    "A = {2: 4, 4: {3:16,4:56}, 5: 25, 3: 9, 6: 36, 7: 49}\n",
    "# ele = int(input(\"Give value\"))\n",
    "ele = 56\n",
    "\n",
    "\n",
    "\n",
    "for i in dict2.keys():\n",
    "    # checking whether the value is a dictionary\n",
    "    if isinstance(i, dict): #details : https://w3schools.com/python/ref_func_isinstance.asp\n",
    "        if isinstance(i, dict):\n",
    "            if ele in A.keys():\n",
    "            \n",
    "            print(\"found\")\n",
    "        else:\n",
    "            \n",
    "            print(\"not found\")\n",
    "\n",
    "print(length)"
   ]
  },
  {
   "cell_type": "markdown",
   "id": "8421f1e8",
   "metadata": {
    "papermill": {
     "duration": null,
     "end_time": null,
     "exception": null,
     "start_time": null,
     "status": "pending"
    },
    "tags": []
   },
   "source": [
    "Break & Continue: \n",
    "=====\n",
    "92. Prime Number Checker: Write a Python program that takes a number as input and determines if it is a prime number or not. Use a `for` loop to check for factors. If a factor is found, `break` out of the loop."
   ]
  },
  {
   "cell_type": "code",
   "execution_count": 65,
   "id": "eb56555b",
   "metadata": {},
   "outputs": [
    {
     "name": "stdout",
     "output_type": "stream",
     "text": [
      "1\n"
     ]
    }
   ],
   "source": [
    "def isPrime(n):\n",
    "    ans = 0\n",
    "    for i in range(1,n+1):\n",
    "        if(n%i==0):\n",
    "            ans = 0\n",
    "            break\n",
    "    ans = 1\n",
    "\n",
    "    return ans\n",
    "        \n",
    "        \n",
    "print(isPrime(6))"
   ]
  },
  {
   "cell_type": "markdown",
   "id": "be0adf4d",
   "metadata": {
    "papermill": {
     "duration": null,
     "end_time": null,
     "exception": null,
     "start_time": null,
     "status": "pending"
    },
    "tags": []
   },
   "source": [
    "93. Even Number Printer: Write a Python program to print all even numbers from 1 to 20. Use a `for` loop and `continue` to skip odd numbers."
   ]
  },
  {
   "cell_type": "code",
   "execution_count": null,
   "id": "c717ea88",
   "metadata": {},
   "outputs": [],
   "source": []
  },
  {
   "cell_type": "markdown",
   "id": "db9b8b1f",
   "metadata": {
    "papermill": {
     "duration": null,
     "end_time": null,
     "exception": null,
     "start_time": null,
     "status": "pending"
    },
    "tags": []
   },
   "source": [
    "94. Password Validator: Write a Python program that takes a password as input and checks if it meets the following criteria: at least 8 characters long, contains both uppercase and lowercase letters, and has at least one digit. If the password is valid, print “Password accepted.” If not, use `continue` to prompt the user to enter a valid password."
   ]
  },
  {
   "cell_type": "code",
   "execution_count": null,
   "id": "f7c0f20b",
   "metadata": {},
   "outputs": [],
   "source": []
  },
  {
   "cell_type": "markdown",
   "id": "c3a8d25e",
   "metadata": {
    "papermill": {
     "duration": null,
     "end_time": null,
     "exception": null,
     "start_time": null,
     "status": "pending"
    },
    "tags": []
   },
   "source": [
    "95. Divisible by 3 or 5: Write a Python program to print all numbers from 1 to 50 that are divisible by either 3 or 5. Use a `for` loop and `continue` to skip numbers that are not divisible by either 3 or 5."
   ]
  },
  {
   "cell_type": "code",
   "execution_count": null,
   "id": "11e89421",
   "metadata": {},
   "outputs": [],
   "source": []
  },
  {
   "cell_type": "markdown",
   "id": "671c9645",
   "metadata": {
    "papermill": {
     "duration": null,
     "end_time": null,
     "exception": null,
     "start_time": null,
     "status": "pending"
    },
    "tags": []
   },
   "source": [
    "96. Positive Number Sum: Write a Python program that takes positive numbers as input until a negative number is entered. Then, calculate and print the sum of all positive numbers entered. Use a `while` loop and `break` to exit the loop when a negative number is encountered.\n",
    "\n"
   ]
  },
  {
   "cell_type": "code",
   "execution_count": null,
   "id": "8ba2ba2c",
   "metadata": {},
   "outputs": [],
   "source": [
    "sum = 0\n",
    "while True:\n",
    "   \n",
    "    num = int(input(\"Enter a number\"))\n",
    "    if (num<0):\n",
    "        break\n",
    "    else:\n",
    "        sum+=num\n",
    "        print(sum)\n",
    "\n",
    "print(sum)"
   ]
  },
  {
   "cell_type": "markdown",
   "id": "5b2baaec",
   "metadata": {
    "papermill": {
     "duration": null,
     "end_time": null,
     "exception": null,
     "start_time": null,
     "status": "pending"
    },
    "tags": []
   },
   "source": [
    "97. Word Palindrome Checker: Write a Python program that takes a word as input and checks if it is a palindrome (reads the same forwards and backward). Use `continue` to skip checking the word if its length is less than 3 characters."
   ]
  },
  {
   "cell_type": "code",
   "execution_count": null,
   "id": "acee0fda",
   "metadata": {},
   "outputs": [],
   "source": [
    "b=0\n",
    "while True:\n",
    "    name = input(\"Enter a word\")\n",
    "    if (len(name)<=3):\n",
    "        continue\n",
    "    else:\n",
    "        l = len(name)\n",
    "        for a in range(0,int(l/2)):\n",
    "            if(name[a] != name[l-1-a]):\n",
    "                b=0\n",
    "            else:\n",
    "                b=1\n",
    "        \n",
    "\n",
    "        if(b==1):\n",
    "            print(\"Palindrome\")\n",
    "        else:\n",
    "            print(\"Not Palindrome\")"
   ]
  },
  {
   "cell_type": "markdown",
   "id": "00fb7141",
   "metadata": {
    "papermill": {
     "duration": null,
     "end_time": null,
     "exception": null,
     "start_time": null,
     "status": "pending"
    },
    "tags": []
   },
   "source": [
    "98. Odd Number Finder: Write a Python program to find the first odd number from a list of integers. Use a `for` loop and `break` to stop the loop when the first odd number is found.\n",
    "\n"
   ]
  },
  {
   "cell_type": "code",
   "execution_count": null,
   "id": "e307768e",
   "metadata": {},
   "outputs": [],
   "source": []
  },
  {
   "cell_type": "markdown",
   "id": "156c7c35",
   "metadata": {
    "papermill": {
     "duration": null,
     "end_time": null,
     "exception": null,
     "start_time": null,
     "status": "pending"
    },
    "tags": []
   },
   "source": [
    "99. Number Guessing Game: Write a Python program that generates a random number between 1 and 100 and lets the user guess the number. Use a `while` loop, `break` when the correct number is guessed, and `continue` to keep prompting the user until they guess correctly."
   ]
  },
  {
   "cell_type": "code",
   "execution_count": null,
   "id": "507e1162",
   "metadata": {},
   "outputs": [],
   "source": [
    "import random\n",
    "while True:\n",
    "    guess = random.randint(0,100)\n",
    "    x = int(input(\"Enter a number\"))\n",
    "    if (guess != x):\n",
    "        continue\n",
    "    else:\n",
    "        print(\"Matched!\")"
   ]
  },
  {
   "cell_type": "markdown",
   "id": "51857748",
   "metadata": {
    "papermill": {
     "duration": null,
     "end_time": null,
     "exception": null,
     "start_time": null,
     "status": "pending"
    },
    "tags": []
   },
   "source": [
    "100. Vowel Counter: Write a Python program that takes a string as input and counts the number of vowels (a, e, i, o, u) in it. Use a `for` loop and `continue` to skip counting non-vowel characters."
   ]
  },
  {
   "cell_type": "code",
   "execution_count": null,
   "id": "1a9d8009",
   "metadata": {},
   "outputs": [],
   "source": [
    "count=0\n",
    "x = input(\"Enter a string\")\n",
    "x=x.lower()\n",
    "for w in x:\n",
    "#     print(w)\n",
    "    if (w==\"a\" or w==\"e\" or w==\"i\" or w==\"o\" or w==\"u\"):\n",
    "        count+=1\n",
    "        \n",
    "print(count)"
   ]
  },
  {
   "cell_type": "markdown",
   "id": "e78410b9",
   "metadata": {
    "papermill": {
     "duration": null,
     "end_time": null,
     "exception": null,
     "start_time": null,
     "status": "pending"
    },
    "tags": []
   },
   "source": [
    "101. Unique Characters: Write a Python program that takes a string as input and checks if it contains all unique characters (no character repeats). Use a `for` loop and `break` when a character repeats."
   ]
  },
  {
   "cell_type": "code",
   "execution_count": 1,
   "id": "99e50887",
   "metadata": {},
   "outputs": [],
   "source": [
    "while True:\n",
    "    b=0\n",
    "    S = input(\"enter string\")\n",
    "    a=\"\"\n",
    "    for i in S:\n",
    "        if i not in a:\n",
    "            a += i\n",
    "        else:\n",
    "            b=1\n",
    "            break\n",
    "    if(b==1):\n",
    "        print(\"Not Unique\")\n",
    "    else:\n",
    "        print(\"Unique\")"
   ]
  },
  {
   "cell_type": "markdown",
   "id": "e040f3ef",
   "metadata": {
    "papermill": {
     "duration": null,
     "end_time": null,
     "exception": null,
     "start_time": null,
     "status": "pending"
    },
    "tags": []
   },
   "source": [
    "Functions Problems:\n",
    "102. Factorial Calculator: Write a Python function called `factorial` that takes an integer as input and returns its factorial. Test the function with different values.\n",
    "\n"
   ]
  },
  {
   "cell_type": "code",
   "execution_count": null,
   "id": "d75d210c",
   "metadata": {},
   "outputs": [],
   "source": [
    "def factorial(n):\n",
    "    mul = 1\n",
    "    i = 1\n",
    "    while(i<=n):\n",
    "        mul = mul*i\n",
    "        i += 1\n",
    "        # print(n)\n",
    "    return mul\n",
    "while True:\n",
    "    n1=int(input(\"Enter your number\"))\n",
    "    print(factorial(n1))"
   ]
  },
  {
   "cell_type": "markdown",
   "id": "47e00044",
   "metadata": {
    "papermill": {
     "duration": null,
     "end_time": null,
     "exception": null,
     "start_time": null,
     "status": "pending"
    },
    "tags": []
   },
   "source": [
    "\n",
    "103. Palindrome Checker: Write a Python function called `is_palindrome` that takes a string as input and returns `True` if it is a palindrome and `False` otherwise. Test the function with different words.\n"
   ]
  },
  {
   "cell_type": "code",
   "execution_count": null,
   "id": "471970a3",
   "metadata": {},
   "outputs": [],
   "source": [
    "def is_palindrome(str):\n",
    "    l = len(str)\n",
    "    for a in range(0,int(l/2)):\n",
    "        if(str[a] != str[l-1-a]):\n",
    "            return False\n",
    "    return True\n",
    "\n",
    "while True:\n",
    "    n1=input(\"Enter your word\")\n",
    "    print(is_palindrome(n1))"
   ]
  },
  {
   "cell_type": "markdown",
   "id": "52965f85",
   "metadata": {
    "papermill": {
     "duration": null,
     "end_time": null,
     "exception": null,
     "start_time": null,
     "status": "pending"
    },
    "tags": []
   },
   "source": [
    "\n",
    "104. Even or Odd Checker: Write a Python function called `even_or_odd` that takes an integer as input and returns “Even” if the number is even and “Odd” if the number is odd. Test the function with different numbers.\n"
   ]
  },
  {
   "cell_type": "code",
   "execution_count": null,
   "id": "1aecab38",
   "metadata": {},
   "outputs": [],
   "source": [
    "def even_or_odd(n):\n",
    "    if(n%2==0):\n",
    "        print(\"Even\")\n",
    "    else:\n",
    "        print(\"Odd\")\n",
    "while True:\n",
    "    isEvenOrOdd = int(input(\"Enter your number\"))\n",
    "    even_or_odd(isEvenOrOdd)"
   ]
  },
  {
   "cell_type": "markdown",
   "id": "3cd51348",
   "metadata": {
    "papermill": {
     "duration": null,
     "end_time": null,
     "exception": null,
     "start_time": null,
     "status": "pending"
    },
    "tags": []
   },
   "source": [
    "\n",
    "105. List Sum Calculator: Write a Python function called `list_sum` that takes a list of integers as input and returns the sum of all elements in the list. Test the function with different lists.\n"
   ]
  },
  {
   "cell_type": "code",
   "execution_count": null,
   "id": "e27374c9",
   "metadata": {},
   "outputs": [],
   "source": [
    "def list_sum(Li):\n",
    "    sum=0\n",
    "    for a in Li:\n",
    "        sum+=a\n",
    "    return sum\n",
    "\n",
    "while True:\n",
    "    lst=[]\n",
    "    n = int(input(\"Enter your number\"))\n",
    "    for i in range(0, n):\n",
    "        ele = int(input())\n",
    "        # adding the element\n",
    "        lst.append(ele) \n",
    "    print(list_sum(lst))"
   ]
  },
  {
   "cell_type": "markdown",
   "id": "2e3d520a",
   "metadata": {
    "papermill": {
     "duration": null,
     "end_time": null,
     "exception": null,
     "start_time": null,
     "status": "pending"
    },
    "tags": []
   },
   "source": [
    "\n",
    "106. Greatest Common Divisor (GCD) Calculator: Write a Python function called `gcd` that takes two integers as input and returns their greatest common divisor. Test the function with different pairs of numbers."
   ]
  },
  {
   "cell_type": "code",
   "execution_count": null,
   "id": "bb2bfd0a",
   "metadata": {},
   "outputs": [],
   "source": [
    "import math\n",
    "while True:\n",
    "    n1 = int(input(\"Enter your number\"))\n",
    "    n2 = int(input(\"Enter your number\"))\n",
    "    print(math.gcd(n1,n2))"
   ]
  },
  {
   "cell_type": "markdown",
   "id": "7c9da149",
   "metadata": {
    "papermill": {
     "duration": null,
     "end_time": null,
     "exception": null,
     "start_time": null,
     "status": "pending"
    },
    "tags": []
   },
   "source": [
    "107. Leap Year Checker: Write a Python function called `is_leap_year` that takes a year as input and returns `True` if it is a leap year and `False` otherwise. Test the function with different years."
   ]
  },
  {
   "cell_type": "code",
   "execution_count": null,
   "id": "2975cc6f",
   "metadata": {},
   "outputs": [],
   "source": [
    "def is_leap_year(year):\n",
    "    if(year%4 == 0):\n",
    "        if(year%100 ==0):\n",
    "            if(year%400==0):\n",
    "                return True\n",
    "            else:\n",
    "                return False\n",
    "        else:\n",
    "            return True\n",
    "    else:\n",
    "        return False\n",
    "while True:\n",
    "    year=int(input(\"Enter your word\"))\n",
    "    print(is_leap_year(year))"
   ]
  },
  {
   "cell_type": "markdown",
   "id": "7ebe05c1",
   "metadata": {
    "papermill": {
     "duration": null,
     "end_time": null,
     "exception": null,
     "start_time": null,
     "status": "pending"
    },
    "tags": []
   },
   "source": [
    "Nested Functions Problems:\n",
    "=====\n",
    "108. Math Operations: Write a Python function called `math_operations` that takes three numbers and a string representing an operation (‘add’, ‘subtract’, ‘multiply’, or ‘divide’). The function should return the result of the specified operation on the three numbers. Implement the math operations as nested functions.\n"
   ]
  },
  {
   "cell_type": "code",
   "execution_count": null,
   "id": "2392e850",
   "metadata": {},
   "outputs": [],
   "source": []
  },
  {
   "cell_type": "markdown",
   "id": "326c7fa1",
   "metadata": {
    "papermill": {
     "duration": null,
     "end_time": null,
     "exception": null,
     "start_time": null,
     "status": "pending"
    },
    "tags": []
   },
   "source": [
    "109. Greeting Generator: Write a Python function called `greeting_generator` that takes a name as input and returns a greeting message using nested functions. The greeting message should be customizable (e.g., “Hello, {name}! How are you today?”)."
   ]
  },
  {
   "cell_type": "code",
   "execution_count": null,
   "id": "b6b30517",
   "metadata": {},
   "outputs": [],
   "source": []
  },
  {
   "cell_type": "markdown",
   "id": "b88873fb",
   "metadata": {
    "papermill": {
     "duration": null,
     "end_time": null,
     "exception": null,
     "start_time": null,
     "status": "pending"
    },
    "tags": []
   },
   "source": [
    "110. Temperature Converter: Write a Python function called `temperature_converter` that takes a temperature value and a string representing the scale (‘C’ for Celsius or ‘F’ for Fahrenheit) as input. The function should convert the temperature from one scale to the other using nested functions and return the converted value."
   ]
  },
  {
   "cell_type": "code",
   "execution_count": null,
   "id": "a91e55c4",
   "metadata": {},
   "outputs": [],
   "source": [
    "def celsius_scale(t):\n",
    "    c = (t - 32) * 5/9\n",
    "    return c\n",
    "\n",
    "def Fahrenheit_scale(t):\n",
    "    Fahrenheit = t*(9/5)+32\n",
    "    return Fahrenheit\n",
    "\n",
    "def temperature_converter(tmp, str):\n",
    "    if(str == 'C'):\n",
    "        print(celsius_scale(tmp))\n",
    "    elif(str == 'F'):\n",
    "        print(Fahrenheit_scale(tmp))\n",
    "\n",
    "scale = input(\"Which scale do you want to convert? C or F\")\n",
    "temp = int(input(\"Enter temperature\"))\n",
    "temperature_converter(temp,scale)"
   ]
  },
  {
   "cell_type": "markdown",
   "id": "5bc58390",
   "metadata": {
    "papermill": {
     "duration": null,
     "end_time": null,
     "exception": null,
     "start_time": null,
     "status": "pending"
    },
    "tags": []
   },
   "source": [
    "\n",
    "Recursion:\n",
    "====\n",
    "111. Factorial Calculation: Write a recursive Python function called `factorial` that takes a non-negative integer as input and returns its factorial."
   ]
  },
  {
   "cell_type": "code",
   "execution_count": null,
   "id": "dce28d0d",
   "metadata": {},
   "outputs": [],
   "source": []
  },
  {
   "cell_type": "markdown",
   "id": "7ee95343",
   "metadata": {
    "papermill": {
     "duration": null,
     "end_time": null,
     "exception": null,
     "start_time": null,
     "status": "pending"
    },
    "tags": []
   },
   "source": [
    "\n",
    "112. Fibonacci Series: Write a recursive Python function called `Fibonacci` that takes an integer N as input and returns the Nth number in the Fibonacci series. The Fibonacci series is defined as follows: F(0) = 0, F(1) = 1, and F(n) = F(n-1) + F(n-2) for n > 1."
   ]
  },
  {
   "cell_type": "code",
   "execution_count": null,
   "id": "6fe527d8",
   "metadata": {},
   "outputs": [],
   "source": []
  },
  {
   "cell_type": "markdown",
   "id": "cacdc119",
   "metadata": {
    "papermill": {
     "duration": null,
     "end_time": null,
     "exception": null,
     "start_time": null,
     "status": "pending"
    },
    "tags": []
   },
   "source": [
    "113. The sum of Digits: Write a recursive Python function called `sum_of_digits` that takes an integer as input and returns the sum of its digits."
   ]
  },
  {
   "cell_type": "code",
   "execution_count": null,
   "id": "87342ef6",
   "metadata": {},
   "outputs": [],
   "source": []
  },
  {
   "cell_type": "markdown",
   "id": "1f1d7f02",
   "metadata": {
    "papermill": {
     "duration": null,
     "end_time": null,
     "exception": null,
     "start_time": null,
     "status": "pending"
    },
    "tags": []
   },
   "source": [
    "\n",
    "114. Binary Search: Write a recursive Python function called `binary_search` that takes a sorted list and a target value as input and returns the index of the target value in the list using binary search. If the target value is not in the list, return -1."
   ]
  },
  {
   "cell_type": "code",
   "execution_count": null,
   "id": "681f99d4",
   "metadata": {},
   "outputs": [],
   "source": []
  },
  {
   "cell_type": "markdown",
   "id": "6bf90d3e",
   "metadata": {
    "papermill": {
     "duration": null,
     "end_time": null,
     "exception": null,
     "start_time": null,
     "status": "pending"
    },
    "tags": []
   },
   "source": [
    "115. Power Calculation: Write a recursive Python function called `power` that takes two positive integers, base and exponent, as input and returns the value of base raised to the exponent."
   ]
  },
  {
   "cell_type": "code",
   "execution_count": null,
   "id": "6c11a3a1",
   "metadata": {},
   "outputs": [],
   "source": []
  }
 ],
 "metadata": {
  "kaggle": {
   "accelerator": "none",
   "dataSources": [],
   "dockerImageVersionId": 30635,
   "isGpuEnabled": false,
   "isInternetEnabled": false,
   "language": "python",
   "sourceType": "notebook"
  },
  "kernelspec": {
   "display_name": "Python 3",
   "language": "python",
   "name": "python3"
  },
  "language_info": {
   "codemirror_mode": {
    "name": "ipython",
    "version": 3
   },
   "file_extension": ".py",
   "mimetype": "text/x-python",
   "name": "python",
   "nbconvert_exporter": "python",
   "pygments_lexer": "ipython3",
   "version": "3.12.1"
  },
  "papermill": {
   "default_parameters": {},
   "duration": 7.49909,
   "end_time": "2024-01-19T12:10:36.343662",
   "environment_variables": {},
   "exception": true,
   "input_path": "__notebook__.ipynb",
   "output_path": "__notebook__.ipynb",
   "parameters": {},
   "start_time": "2024-01-19T12:10:28.844572",
   "version": "2.4.0"
  }
 },
 "nbformat": 4,
 "nbformat_minor": 5
}
