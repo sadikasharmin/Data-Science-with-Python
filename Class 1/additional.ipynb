{
 "cells": [
  {
   "cell_type": "code",
   "execution_count": null,
   "metadata": {},
   "outputs": [],
   "source": [
    "# Variable and date\n",
    "\n",
    "i = 4\n",
    "f = 4.5\n",
    "b= True\n",
    "c = complex(4,5)\n",
    "s= \"String\"\n",
    "d = None\n",
    "print(type(i))"
   ]
  }
 ],
 "metadata": {
  "language_info": {
   "name": "python"
  }
 },
 "nbformat": 4,
 "nbformat_minor": 2
}
