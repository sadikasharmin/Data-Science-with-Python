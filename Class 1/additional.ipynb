{
 "cells": [
  {
   "cell_type": "code",
   "execution_count": 4,
   "metadata": {},
   "outputs": [
    {
     "name": "stdout",
     "output_type": "stream",
     "text": [
      "<class 'int'>\n",
      "<class 'float'>\n",
      "<class 'bool'>\n",
      "<class 'complex'>\n",
      "<class 'str'>\n",
      "<class 'NoneType'>\n",
      "10\n",
      "(4+5j)\n"
     ]
    }
   ],
   "source": [
    "# Variable and date\n",
    "\n",
    "i = 4 #integer\n",
    "f = 4.5 #fload\n",
    "b= True #bolian \n",
    "c = complex(4,5) #complex\n",
    "s= \"String\" #string\n",
    "d = None #Nonetype\n",
    "print(type(i))\n",
    "print(type(f))\n",
    "print(type(b))\n",
    "print(type(c))\n",
    "print(type(s))\n",
    "print(type(d))\n",
    "d = 10\n",
    "print(d)\n",
    "print(c)\n"
   ]
  },
  {
   "cell_type": "code",
   "execution_count": null,
   "metadata": {},
   "outputs": [],
   "source": [
    "#operator\n",
    "# Flode"
   ]
  }
 ],
 "metadata": {
  "kernelspec": {
   "display_name": "Python 3",
   "language": "python",
   "name": "python3"
  },
  "language_info": {
   "codemirror_mode": {
    "name": "ipython",
    "version": 3
   },
   "file_extension": ".py",
   "mimetype": "text/x-python",
   "name": "python",
   "nbconvert_exporter": "python",
   "pygments_lexer": "ipython3",
   "version": "3.12.1"
  }
 },
 "nbformat": 4,
 "nbformat_minor": 2
}
