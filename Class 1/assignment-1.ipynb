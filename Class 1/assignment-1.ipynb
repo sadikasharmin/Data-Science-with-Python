{
 "cells": [
  {
   "cell_type": "code",
   "execution_count": 1,
   "metadata": {},
   "outputs": [
    {
     "name": "stdout",
     "output_type": "stream",
     "text": [
      "20 10\n"
     ]
    }
   ],
   "source": [
    "#1. Write a program that swaps the values of two variables.\n",
    "x,y=10,20\n",
    "temp = x\n",
    "x=y\n",
    "y=temp\n",
    "print(x,y)\n"
   ]
  },
  {
   "cell_type": "code",
   "execution_count": 2,
   "metadata": {},
   "outputs": [
    {
     "name": "stdout",
     "output_type": "stream",
     "text": [
      "100\n"
     ]
    }
   ],
   "source": [
    "#2. Write a program that calculates the area of a rectangle given its length and width.\n",
    "l,w=20,5\n",
    "area = l*w;\n",
    "print(area)"
   ]
  },
  {
   "cell_type": "code",
   "execution_count": 5,
   "metadata": {},
   "outputs": [
    {
     "name": "stdout",
     "output_type": "stream",
     "text": [
      "37.0\n"
     ]
    }
   ],
   "source": [
    "#3. Write a program that converts temperature from Fahrenheit to Celsius.\n",
    "fahrenheit_temp = 98.6\n",
    "celsius_temp = ((fahrenheit_temp-32)*5)/9  \n",
    "print(celsius_temp)"
   ]
  },
  {
   "cell_type": "code",
   "execution_count": 1,
   "metadata": {},
   "outputs": [
    {
     "name": "stdout",
     "output_type": "stream",
     "text": [
      "33.5104\n"
     ]
    }
   ],
   "source": [
    "#4. Write a program that calculates the volume of a sphere given its radius.\n",
    "radius_cir = 2\n",
    "volume = (4.0 / 3.0) * 3.1416 * (radius_cir * radius_cir * radius_cir)\n",
    "print(volume)"
   ]
  },
  {
   "cell_type": "code",
   "execution_count": 2,
   "metadata": {},
   "outputs": [
    {
     "name": "stdout",
     "output_type": "stream",
     "text": [
      "4.0\n"
     ]
    }
   ],
   "source": [
    "#5. Write a program that finds the average of three numbers.\n",
    "x1, x2, x3 = 3, 4, 5\n",
    "x_bar = (x1+x2+x3)/3\n",
    "print(x_bar)"
   ]
  },
  {
   "cell_type": "code",
   "execution_count": 3,
   "metadata": {},
   "outputs": [
    {
     "name": "stdout",
     "output_type": "stream",
     "text": [
      "Odd\n"
     ]
    }
   ],
   "source": [
    "#If-elif-else\n",
    "#6. Write a program that determines if a number is even or odd.\n",
    "n = 11\n",
    "if(n%2 == 0):\n",
    "    print(\"Even\")\n",
    "else:\n",
    "    print(\"Odd\")"
   ]
  },
  {
   "cell_type": "code",
   "execution_count": 6,
   "metadata": {},
   "outputs": [
    {
     "name": "stdout",
     "output_type": "stream",
     "text": [
      "50\n"
     ]
    }
   ],
   "source": [
    "#7. Write a program that finds the maximum of three numbers.\n",
    "a1,a2,a3 = 50,5,7\n",
    "if(a1>a2):\n",
    "    if(a1>a3):\n",
    "        print(a1)\n",
    "    else:\n",
    "        print(a3)\n",
    "else:\n",
    "    if(a2>a3):\n",
    "        print(a2)\n",
    "    else:\n",
    "        print(a3)"
   ]
  },
  {
   "cell_type": "code",
   "execution_count": 10,
   "metadata": {},
   "outputs": [
    {
     "name": "stdout",
     "output_type": "stream",
     "text": [
      "Ops! Sorry\n"
     ]
    }
   ],
   "source": [
    "#8. Write a program that determines if a year is a leap year or not.\n",
    "year = 1900\n",
    "if((year % 4 == 0 and year % 100 != 0) or (year % 400 == 0)):\n",
    "    print(\"Leap Year\")\n",
    "else:\n",
    "    print(\"Ops! Sorry\")"
   ]
  },
  {
   "cell_type": "code",
   "execution_count": 11,
   "metadata": {},
   "outputs": [
    {
     "name": "stdout",
     "output_type": "stream",
     "text": [
      "positive\n"
     ]
    }
   ],
   "source": [
    "#9. Write a program that determines if a number is positive, negative, or zero.\n",
    "number = 20\n",
    "if(number>0):\n",
    "    print('positive')\n",
    "elif(number<0):\n",
    "    print(\"negative\")\n",
    "else:\n",
    "    print('zero')"
   ]
  },
  {
   "cell_type": "code",
   "execution_count": 14,
   "metadata": {},
   "outputs": [
    {
     "name": "stdout",
     "output_type": "stream",
     "text": [
      "A+\n"
     ]
    }
   ],
   "source": [
    "#10. Write a program that calculates the grade based on a given percentage.\n",
    "grade = 99\n",
    "if(grade <=100):\n",
    "    if(grade>=80):\n",
    "        print('A+')\n",
    "    elif(grade>=70):\n",
    "        print('A')\n",
    "    elif(grade>=60):\n",
    "        print('B+')\n",
    "    elif(grade>=50):\n",
    "        print('B')\n",
    "    elif(grade>=40):\n",
    "        print('C')\n",
    "    elif(grade>=33):\n",
    "        print('D') \n",
    "    else:\n",
    "        print('Fail')\n",
    "else:\n",
    "    print('Please enter valid Number')  "
   ]
  },
  {
   "cell_type": "code",
   "execution_count": 17,
   "metadata": {},
   "outputs": [
    {
     "name": "stdout",
     "output_type": "stream",
     "text": [
      "1\n",
      "2\n",
      "3\n",
      "4\n",
      "5\n",
      "6\n",
      "7\n",
      "8\n",
      "9\n"
     ]
    }
   ],
   "source": [
    "#For Loop\n",
    "# 11. Write a program that prints the first `n` natural numbers.\n",
    "for i in range(1,10):\n",
    "    print (i)"
   ]
  },
  {
   "cell_type": "code",
   "execution_count": 24,
   "metadata": {},
   "outputs": [
    {
     "name": "stdout",
     "output_type": "stream",
     "text": [
      "42\n"
     ]
    }
   ],
   "source": [
    "# 12. Write a program that calculates the factorial of a number.\n",
    "for i in range(1,8):\n",
    "    fac = 1\n",
    "    fac = fac*i\n",
    "    \n",
    "    \n",
    "print (fac)"
   ]
  }
 ],
 "metadata": {
  "kernelspec": {
   "display_name": "Python 3",
   "language": "python",
   "name": "python3"
  },
  "language_info": {
   "codemirror_mode": {
    "name": "ipython",
    "version": 3
   },
   "file_extension": ".py",
   "mimetype": "text/x-python",
   "name": "python",
   "nbconvert_exporter": "python",
   "pygments_lexer": "ipython3",
   "version": "3.12.1"
  },
  "orig_nbformat": 4
 },
 "nbformat": 4,
 "nbformat_minor": 2
}
