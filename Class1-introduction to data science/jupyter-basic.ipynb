{
 "cells": [
  {
   "cell_type": "markdown",
   "metadata": {},
   "source": [
    "## Download jupyter on environment\n",
    "#### Install the classic Jupyter Notebook with:\n",
    "----> pip install notebook\n",
    "#### To run the notebook:\n",
    "-----> python -m notebook\n",
    "\n",
    "\n",
    "### VS code is better for me because i can clone in github directly from my editor!! I really like it"
   ]
  },
  {
   "cell_type": "markdown",
   "metadata": {},
   "source": [
    "## 1. Run Terminal Commands in Jupyter"
   ]
  },
  {
   "cell_type": "code",
   "execution_count": 1,
   "metadata": {},
   "outputs": [
    {
     "name": "stdout",
     "output_type": "stream",
     "text": [
      "Collecting seaborn\n",
      "  Downloading seaborn-0.13.2-py3-none-any.whl.metadata (5.4 kB)\n",
      "Requirement already satisfied: numpy!=1.24.0,>=1.20 in c:\\users\\sadika sharmin\\appdata\\local\\programs\\python\\python312\\lib\\site-packages (from seaborn) (1.26.3)\n",
      "Requirement already satisfied: pandas>=1.2 in c:\\users\\sadika sharmin\\appdata\\local\\programs\\python\\python312\\lib\\site-packages (from seaborn) (2.1.4)\n",
      "Requirement already satisfied: matplotlib!=3.6.1,>=3.4 in c:\\users\\sadika sharmin\\appdata\\local\\programs\\python\\python312\\lib\\site-packages (from seaborn) (3.8.2)\n",
      "Requirement already satisfied: contourpy>=1.0.1 in c:\\users\\sadika sharmin\\appdata\\local\\programs\\python\\python312\\lib\\site-packages (from matplotlib!=3.6.1,>=3.4->seaborn) (1.2.0)\n",
      "Requirement already satisfied: cycler>=0.10 in c:\\users\\sadika sharmin\\appdata\\local\\programs\\python\\python312\\lib\\site-packages (from matplotlib!=3.6.1,>=3.4->seaborn) (0.12.1)\n",
      "Requirement already satisfied: fonttools>=4.22.0 in c:\\users\\sadika sharmin\\appdata\\local\\programs\\python\\python312\\lib\\site-packages (from matplotlib!=3.6.1,>=3.4->seaborn) (4.47.2)\n",
      "Requirement already satisfied: kiwisolver>=1.3.1 in c:\\users\\sadika sharmin\\appdata\\local\\programs\\python\\python312\\lib\\site-packages (from matplotlib!=3.6.1,>=3.4->seaborn) (1.4.5)\n",
      "Requirement already satisfied: packaging>=20.0 in c:\\users\\sadika sharmin\\appdata\\roaming\\python\\python312\\site-packages (from matplotlib!=3.6.1,>=3.4->seaborn) (23.2)\n",
      "Requirement already satisfied: pillow>=8 in c:\\users\\sadika sharmin\\appdata\\local\\programs\\python\\python312\\lib\\site-packages (from matplotlib!=3.6.1,>=3.4->seaborn) (10.2.0)\n",
      "Requirement already satisfied: pyparsing>=2.3.1 in c:\\users\\sadika sharmin\\appdata\\local\\programs\\python\\python312\\lib\\site-packages (from matplotlib!=3.6.1,>=3.4->seaborn) (3.1.1)\n",
      "Requirement already satisfied: python-dateutil>=2.7 in c:\\users\\sadika sharmin\\appdata\\roaming\\python\\python312\\site-packages (from matplotlib!=3.6.1,>=3.4->seaborn) (2.8.2)\n",
      "Requirement already satisfied: pytz>=2020.1 in c:\\users\\sadika sharmin\\appdata\\local\\programs\\python\\python312\\lib\\site-packages (from pandas>=1.2->seaborn) (2023.3.post1)\n",
      "Requirement already satisfied: tzdata>=2022.1 in c:\\users\\sadika sharmin\\appdata\\local\\programs\\python\\python312\\lib\\site-packages (from pandas>=1.2->seaborn) (2023.4)\n",
      "Requirement already satisfied: six>=1.5 in c:\\users\\sadika sharmin\\appdata\\roaming\\python\\python312\\site-packages (from python-dateutil>=2.7->matplotlib!=3.6.1,>=3.4->seaborn) (1.16.0)\n",
      "Downloading seaborn-0.13.2-py3-none-any.whl (294 kB)\n",
      "   ---------------------------------------- 0.0/294.9 kB ? eta -:--:--\n",
      "   ---------------------------------------- 0.0/294.9 kB ? eta -:--:--\n",
      "   - -------------------------------------- 10.2/294.9 kB ? eta -:--:--\n",
      "   - -------------------------------------- 10.2/294.9 kB ? eta -:--:--\n",
      "   ---- ---------------------------------- 30.7/294.9 kB 217.9 kB/s eta 0:00:02\n",
      "   ----- --------------------------------- 41.0/294.9 kB 217.9 kB/s eta 0:00:02\n",
      "   ---------- ---------------------------- 81.9/294.9 kB 351.4 kB/s eta 0:00:01\n",
      "   ------------ -------------------------- 92.2/294.9 kB 374.1 kB/s eta 0:00:01\n",
      "   --------------- ---------------------- 122.9/294.9 kB 399.4 kB/s eta 0:00:01\n",
      "   ------------------------- ------------ 194.6/294.9 kB 535.8 kB/s eta 0:00:01\n",
      "   ------------------------------- ------ 245.8/294.9 kB 628.1 kB/s eta 0:00:01\n",
      "   ------------------------------------ - 286.7/294.9 kB 631.2 kB/s eta 0:00:01\n",
      "   -------------------------------------- 294.9/294.9 kB 607.0 kB/s eta 0:00:00\n",
      "Installing collected packages: seaborn\n",
      "Successfully installed seaborn-0.13.2\n",
      "Note: you may need to restart the kernel to use updated packages.\n"
     ]
    }
   ],
   "source": [
    "%pip install seaborn"
   ]
  },
  {
   "cell_type": "code",
   "execution_count": 2,
   "metadata": {},
   "outputs": [
    {
     "name": "stdout",
     "output_type": "stream",
     "text": [
      " Volume in drive E is New Volume\n",
      " Volume Serial Number is 2860-AF60\n",
      "\n",
      " Directory of e:\\python\\Class1-introduction to data science\n",
      "\n",
      "29/01/2024  00:38    <DIR>          .\n",
      "27/01/2024  15:40    <DIR>          ..\n",
      "26/01/2024  17:22         2,738,545 Class 01 - Intro to Data Science and AI.pdf\n",
      "26/01/2024  17:23                 0 jupyter-basic.ipynb\n",
      "               2 File(s)      2,738,545 bytes\n",
      "               2 Dir(s)  58,368,962,560 bytes free\n"
     ]
    }
   ],
   "source": [
    "%ls #All infornamtion about this file and folder"
   ]
  },
  {
   "cell_type": "code",
   "execution_count": 5,
   "metadata": {},
   "outputs": [],
   "source": [
    "# %cd Class 01 - Intro to Data Science and AI.pdf; ls\n",
    "# it's not working because it's not a 2-word file"
   ]
  },
  {
   "cell_type": "markdown",
   "metadata": {},
   "source": [
    "## 2. Shortcuts in Jupyter Notebooks (NB : not working in vs)"
   ]
  },
  {
   "cell_type": "markdown",
   "metadata": {},
   "source": [
    "M: switch to markdown<br> \n",
    "A: create cells above<br>\n",
    "B: create cells below<br>\n",
    "D+D: delete cell<br>\n",
    "Y: switch to code<br>\n",
    "## the below command will be worked!\n",
    "\n",
    "ctrl+enter--> run cell and stay on cell <br>\n",
    "shift+enter--> run cell and go to next <br>\n",
    "(you have to press esc before running shortcut) <br>\n",
    "edit --> find & replace (another useful command) <br>"
   ]
  },
  {
   "cell_type": "markdown",
   "metadata": {},
   "source": [
    "### shift + tab --> information about this method. \n",
    "#### NB: no need for vs. it will show after hover\n",
    "\n",
    "pwd -->directory"
   ]
  },
  {
   "cell_type": "markdown",
   "metadata": {},
   "source": [
    "# Markdown informations\n",
    "**Bold** <br>\n",
    "*Italic*<br>\n",
    "> quote<br>\n",
    "[Link](https://github.com/sadikasharmin/Data-Science-with-Python/tree/main)<br>\n",
    "![Image](image.jpg) image\n",
    "* unordered list\n",
    "1. ordered list\n"
   ]
  }
 ],
 "metadata": {
  "kernelspec": {
   "display_name": "Python 3 (ipykernel)",
   "language": "python",
   "name": "python3"
  },
  "language_info": {
   "codemirror_mode": {
    "name": "ipython",
    "version": 3
   },
   "file_extension": ".py",
   "mimetype": "text/x-python",
   "name": "python",
   "nbconvert_exporter": "python",
   "pygments_lexer": "ipython3",
   "version": "3.12.1"
  }
 },
 "nbformat": 4,
 "nbformat_minor": 4
}
